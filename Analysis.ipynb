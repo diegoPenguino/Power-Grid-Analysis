{
 "cells": [
  {
   "cell_type": "code",
   "execution_count": 55,
   "metadata": {},
   "outputs": [],
   "source": [
    "import networkx as nx\n",
    "\n",
    "G = nx.Graph()\n",
    "G = nx.read_gml('power_grid.gml', label=None)"
   ]
  },
  {
   "cell_type": "code",
   "execution_count": 56,
   "metadata": {},
   "outputs": [
    {
     "name": "stdout",
     "output_type": "stream",
     "text": [
      "Number of nodes:  4941\n",
      "Number of edges:  6594\n",
      "Network has no cycles:  False\n"
     ]
    }
   ],
   "source": [
    "def is_acyclic(G):\n",
    "    return nx.cycle_basis(G) == []\n",
    "\n",
    "def print_relevant_info(G):\n",
    "    print(\"Number of nodes: \", G.number_of_nodes())\n",
    "    print(\"Number of edges: \", G.number_of_edges())\n",
    "    print(\"Network has no cycles: \", is_acyclic(G))\n",
    "\n",
    "print_relevant_info(G)"
   ]
  },
  {
   "cell_type": "code",
   "execution_count": 57,
   "metadata": {},
   "outputs": [
    {
     "name": "stdout",
     "output_type": "stream",
     "text": [
      "18.989185424445708\n"
     ]
    }
   ],
   "source": [
    "#print(nx.average_shortest_path_length(G))\n",
    "print(18.989185424445708)"
   ]
  },
  {
   "cell_type": "code",
   "execution_count": 58,
   "metadata": {},
   "outputs": [],
   "source": [
    "def bfs_by_radius(G, node, max_dist):\n",
    "    visited = [node]\n",
    "    queue = [node]\n",
    "    distance = [-1]*(G.number_of_nodes() + 1)\n",
    "    distance [node] = 0\n",
    "    while queue:\n",
    "        node = queue.pop(0)\n",
    "        for neighbour in G.neighbors(node):\n",
    "            if neighbour not in visited and distance[node] + 1 <= max_dist:\n",
    "                visited.append(neighbour)\n",
    "                queue.append(neighbour)\n",
    "                distance[neighbour] = distance[node] + 1\n",
    "    return len(visited)\n",
    "\n",
    "def radial_centrality(G, radius=4):\n",
    "    centrality = {}\n",
    "    for node in G.nodes:\n",
    "        centrality[node] = bfs_by_radius(G, node, radius)\n",
    "    return centrality\n",
    "        "
   ]
  },
  {
   "cell_type": "code",
   "execution_count": 59,
   "metadata": {},
   "outputs": [],
   "source": [
    "def get_best_nodes_by_centrality(centrality_funtion, G, number_of_nodes):\n",
    "    centrality_values = centrality_funtion(G)\n",
    "    amount = 0\n",
    "    aux = list((b, a) for a, b in centrality_values.items())\n",
    "    aux.sort(reverse=True)\n",
    "    ret = []\n",
    "    for i in aux:\n",
    "        if amount >= number_of_nodes:\n",
    "            break\n",
    "        amount += 1\n",
    "        ret.append(i)\n",
    "    return ret\n"
   ]
  },
  {
   "cell_type": "code",
   "execution_count": 60,
   "metadata": {},
   "outputs": [],
   "source": [
    "def get_intersection(list1, list2):\n",
    "    return list(set(list1) & set(list2))\n",
    "\n",
    "def get_intersections(result1, result2, max_size):\n",
    "    list1 = []\n",
    "    list2 = []\n",
    "    result = [[]]\n",
    "    for size in range(max_size):\n",
    "        list1.append(result1[size][1])\n",
    "        list2.append(result2[size][1])\n",
    "        result.append(get_intersection(list1, list2))\n",
    "    return result\n"
   ]
  },
  {
   "cell_type": "code",
   "execution_count": 61,
   "metadata": {},
   "outputs": [
    {
     "name": "stdout",
     "output_type": "stream",
     "text": [
      "0\n",
      "1\n"
     ]
    }
   ],
   "source": [
    "best = []\n",
    "amount = 60\n",
    "best.append(get_best_nodes_by_centrality(nx.degree_centrality, G, amount))                      #degree centrality      (0)\n",
    "print(0)\n",
    "best.append(get_best_nodes_by_centrality(nx.pagerank, G, amount))                               #pagerank               (1)\n",
    "print(1)"
   ]
  },
  {
   "cell_type": "code",
   "execution_count": 62,
   "metadata": {},
   "outputs": [
    {
     "name": "stdout",
     "output_type": "stream",
     "text": [
      "[2553, 4458, 4345, 3468, 831, 3895, 2585, 2575, 2542, 2382, 2662, 2617, 2439, 2434, 1224, 4395, 4384, 4381, 4373, 4352, 4332, 2282, 1334, 1309, 1005, 490, 4402, 4392, 4361, 4359, 4346, 3838, 3355, 3312, 3128, 2936, 2851, 2800, 2717, 2608, 2586, 2554, 2533, 1460, 1326, 1170, 1166, 1106, 1091, 1050, 1030, 725, 4878, 4391, 4342, 4336, 4199, 3351, 3329, 2959]\n",
      "\n",
      "[4458, 831, 3468, 2553, 1224, 597, 2382, 2575, 2439, 3895, 3355, 2434, 2542, 2617, 2647, 2282, 1005, 4520, 1030, 1334, 2585, 1326, 4878, 490, 4224, 725, 1554, 1460, 3838, 1106, 2321, 98, 274, 2662, 2249, 2717, 3312, 846, 2586, 2608, 1309, 848, 88, 3979, 3351, 3329, 1166, 3431, 2936, 1091, 129, 2548, 2493, 854, 1098, 2800, 4209, 4199, 803, 3411]\n",
      "\n"
     ]
    }
   ],
   "source": [
    "print([v for u,v in best[0]], end='\\n\\n')\n",
    "print([v for u,v in best[1]], end='\\n\\n')"
   ]
  },
  {
   "cell_type": "code",
   "execution_count": 63,
   "metadata": {},
   "outputs": [
    {
     "name": "stdout",
     "output_type": "stream",
     "text": [
      "38\n"
     ]
    }
   ],
   "source": [
    "aux = [len(x) for x in get_intersections(best[0], best[1], amount)]\n",
    "print(aux[-1], end = '\\n')"
   ]
  },
  {
   "cell_type": "code",
   "execution_count": 64,
   "metadata": {},
   "outputs": [
    {
     "name": "stdout",
     "output_type": "stream",
     "text": [
      "[3329, 2434, 1030, 2439, 3468, 4878, 2575, 1166, 3351, 2585, 2586, 3355, 1309, 2717, 1326, 2608, 1460, 1334, 3895, 2617, 831, 1091, 1224, 2382, 1106, 725, 2662, 4199, 4458, 2282, 490, 1005, 2542, 3312, 2800, 2936, 2553, 3838] 38\n"
     ]
    }
   ],
   "source": [
    "generators = get_intersection([x[1] for x in best[0]], [x[1] for x in best[1]])\n",
    "\n",
    "print(generators, len(generators))"
   ]
  },
  {
   "cell_type": "code",
   "execution_count": 65,
   "metadata": {},
   "outputs": [
    {
     "data": {
      "image/png": "[encoded data removed]",
      "text/plain": [
       "<Figure size 432x288 with 1 Axes>"
      ]
     },
     "metadata": {
      "needs_background": "light"
     },
     "output_type": "display_data"
    }
   ],
   "source": [
    "import numpy as np\n",
    "import matplotlib.pyplot as plt\n",
    "\n",
    "def addlabels(x,y):\n",
    "    for i in range(len(x)):\n",
    "        plt.text(i, y[i], y[i], ha = 'center')\n",
    "\n",
    "degree_distribution = {}\n",
    "for i in G.degree:\n",
    "    if i[1] in degree_distribution:\n",
    "        degree_distribution[i[1]] += 1\n",
    "    else:\n",
    "        degree_distribution[i[1]] = 1\n",
    "\n",
    "aux = [(x, y) for (x, y) in degree_distribution.items()]\n",
    "aux.sort()\n",
    "x = [0]\n",
    "y = [0]\n",
    "\n",
    "for i in aux:\n",
    "    x.append(i[0])\n",
    "    y.append(i[1])\n",
    "\n",
    "plt.bar(x, y, tick_label=[str(val) for val in x], width=0.9)\n",
    "plt.title(\"Degree distribution of the network\")\n",
    "\n",
    "addlabels(x,y)\n",
    "plt.xlabel(\"Number of connections\")\n",
    "plt.ylabel(\"Number of nodes\")\n",
    "plt.savefig(\"Deg_distribution.jpg\", dpi=300)\n",
    "plt.show()"
   ]
  },
  {
   "cell_type": "code",
   "execution_count": 66,
   "metadata": {},
   "outputs": [],
   "source": [
    "from matplotlib import pylab\n",
    "pos = nx.spring_layout(G)\n"
   ]
  },
  {
   "cell_type": "code",
   "execution_count": 67,
   "metadata": {},
   "outputs": [],
   "source": [
    "def save_graph(graph,file_name, color_edges = ['#ffdc73' for u, v in G.edges]):\n",
    "    plt.figure(num=None, figsize=(30, 30), dpi=160)\n",
    "    plt.axis('off')\n",
    "    fig = plt.figure(1)\n",
    "    \n",
    "    nx.draw_networkx(graph, pos, with_labels=False, node_size=size_node, node_color=colors, edge_color=color_edges)\n",
    "\n",
    "    cut = 1.00\n",
    "    xmax = cut * max(xx for xx, yy in pos.values())\n",
    "    ymax = cut * max(yy for xx, yy in pos.values())\n",
    "    xmin = cut * min(xx for xx, yy in pos.values())\n",
    "    ymin = cut * min(yy for xx, yy in pos.values())\n",
    "    plt.xlim(xmin, xmax)\n",
    "    plt.ylim(ymin, ymax)\n",
    "    \n",
    "    plt.savefig(file_name,bbox_inches=\"tight\")\n",
    "    pylab.close()\n",
    "    del fig\n"
   ]
  },
  {
   "cell_type": "code",
   "execution_count": 68,
   "metadata": {},
   "outputs": [],
   "source": [
    "colors = []\n",
    "size_node = []\n",
    "edges_color = '#ffdc73'\n",
    "\n",
    "def set_colors(gen_color, norm_color, terminal_color):\n",
    "    global colors\n",
    "    global size_node\n",
    "    colors = []\n",
    "    size_node = []\n",
    "    for node in G.nodes:\n",
    "        if node in generators:\n",
    "            colors.append(gen_color)\n",
    "            size_node.append(160)\n",
    "        else:\n",
    "            if G.degree[node] != 1:\n",
    "                colors.append(norm_color)\n",
    "                size_node.append(20)\n",
    "            else:\n",
    "                colors.append(terminal_color)\n",
    "                size_node.append(40)\n",
    "\n",
    "set_colors('#23ccad', '#c70039', 'black')\n",
    "save_graph(G,\"generators_graph.jpg\")\n",
    "colors = 'black'\n",
    "size_node = 40\n",
    "save_graph(G, \"initial_draw.jpg\")\n"
   ]
  },
  {
   "cell_type": "code",
   "execution_count": 69,
   "metadata": {},
   "outputs": [],
   "source": [
    "def BFS_family(G, init_node, distances_family):\n",
    "    queue = [init_node]\n",
    "    distances_family [init_node] = (0, init_node)\n",
    "    while queue:\n",
    "        node = queue.pop(0)\n",
    "        for neighbour in G.neighbors(node):\n",
    "            if distances_family[node][0] + 1 <= distances_family[neighbour][0]:\n",
    "                queue.append(neighbour)\n",
    "                distances_family[neighbour] = (distances_family[node][0] + 1, init_node)\n",
    "    return distances_family\n",
    "\n",
    "def calculate_distances(G, list_of_generators):\n",
    "    distances_family = [(100, -1)]*(G.number_of_nodes() + 1)\n",
    "    #(distance, family)\n",
    "\n",
    "    for node in list_of_generators:\n",
    "        distances_family = BFS_family(G, node, distances_family)\n",
    "\n",
    "    return distances_family\n",
    "\n",
    "distances_family = calculate_distances(G, generators)\n",
    "#print(distances_family)"
   ]
  },
  {
   "cell_type": "code",
   "execution_count": 70,
   "metadata": {},
   "outputs": [],
   "source": [
    "def get_communities(G, list_of_generators):\n",
    "    communities = {}\n",
    "    distances_family = calculate_distances(G, list_of_generators)\n",
    "    for node in G.nodes:\n",
    "        family = distances_family[node][1]\n",
    "        if family not in communities.keys():\n",
    "            communities[family] = [node]\n",
    "        else:\n",
    "            communities[family].append(node)\n",
    "    return communities\n",
    "        \n",
    "communities = get_communities(G, generators)\n",
    "\n",
    "colors = []\n",
    "size_node = []\n",
    "\n",
    "usable_colors = {}\n",
    "for i in range(len(generators)):\n",
    "    usable_colors[generators[i]] = float(i)/float(len(generators))\n",
    "\n",
    "for node in G.nodes:\n",
    "    family = distances_family[node][1]\n",
    "    colors.append(usable_colors[family])\n",
    "    if node in generators:\n",
    "        size_node.append(250)\n",
    "    else:\n",
    "        size_node.append(50)\n",
    "\n",
    "edges_color = []\n",
    "\n",
    "for u,v in G.edges:\n",
    "    family_u = distances_family[u][1]\n",
    "    family_v = distances_family[v][1]\n",
    "    if family_u == family_v:\n",
    "        edges_color.append(usable_colors[family_u])\n",
    "    else:\n",
    "        edges_color.append(1)\n",
    "\n",
    "save_graph(G,\"communities.jpg\", color_edges=edges_color)\n"
   ]
  },
  {
   "cell_type": "code",
   "execution_count": 71,
   "metadata": {},
   "outputs": [
    {
     "name": "stdout",
     "output_type": "stream",
     "text": [
      "Size of community of 2282: 245\n",
      "Size of community of 3329: 210\n",
      "Size of community of 3355: 44\n",
      "Size of community of 1091: 391\n",
      "Size of community of 1030: 213\n",
      "Size of community of 4458: 318\n",
      "Size of community of 725: 179\n",
      "Size of community of 1309: 262\n",
      "Size of community of 1326: 94\n",
      "Size of community of 1334: 85\n",
      "Size of community of 4199: 211\n",
      "Size of community of 490: 140\n",
      "Size of community of 2382: 143\n",
      "Size of community of 831: 68\n",
      "Size of community of 1005: 72\n",
      "Size of community of 1166: 117\n",
      "Size of community of 1106: 396\n",
      "Size of community of 1224: 69\n",
      "Size of community of 1460: 87\n",
      "Size of community of 2617: 210\n",
      "Size of community of 3312: 467\n",
      "Size of community of 2542: 95\n",
      "Size of community of 2586: 110\n",
      "Size of community of 2434: 68\n",
      "Size of community of 2439: 24\n",
      "Size of community of 2575: 15\n",
      "Size of community of 2717: 108\n",
      "Size of community of 2553: 79\n",
      "Size of community of 2608: 84\n",
      "Size of community of 2936: 34\n",
      "Size of community of 2585: 18\n",
      "Size of community of 2662: 32\n",
      "Size of community of 2800: 21\n",
      "Size of community of 3468: 48\n",
      "Size of community of 4878: 84\n",
      "Size of community of 3351: 16\n",
      "Size of community of 3838: 51\n",
      "Size of community of 3895: 33\n"
     ]
    }
   ],
   "source": [
    "for i in communities.keys():\n",
    "    print(\"Size of community of \", i,\": \", len(communities[i]), sep='')"
   ]
  },
  {
   "cell_type": "code",
   "execution_count": 72,
   "metadata": {},
   "outputs": [],
   "source": [
    "def save_graph_community(graph,file_name, list_of_nodes, color, big_size=1500):\n",
    "    plt.figure(num=None, figsize=(30, 30), dpi=160)\n",
    "    plt.axis('off')\n",
    "    fig = plt.figure(1)\n",
    "\n",
    "    size_of_nodes = []\n",
    "    for node in list_of_nodes:\n",
    "        if node not in generators:\n",
    "            size_of_nodes.append(100)\n",
    "        else:\n",
    "            size_of_nodes.append(big_size)\n",
    "\n",
    "    list_of_edges = []\n",
    "    for u, v in G.edges:\n",
    "        if u in list_of_nodes and v in list_of_nodes:\n",
    "            list_of_edges.append((u,v))\n",
    "\n",
    "    nx.draw_networkx(graph, pos, with_labels=False, edgelist=list_of_edges, nodelist=list_of_nodes, node_size=size_of_nodes, node_color=color, edge_color=color)\n",
    "\n",
    "    cut = 1.00\n",
    "    xmax = cut * max(xx for xx, yy in pos.values())\n",
    "    ymax = cut * max(yy for xx, yy in pos.values())\n",
    "    xmin = cut * min(xx for xx, yy in pos.values())\n",
    "    ymin = cut * min(yy for xx, yy in pos.values())\n",
    "    plt.xlim(xmin, xmax)\n",
    "    plt.ylim(ymin, ymax)\n",
    "    \n",
    "    plt.savefig(file_name,bbox_inches=\"tight\")\n",
    "    pylab.close()\n",
    "    del fig"
   ]
  },
  {
   "cell_type": "code",
   "execution_count": 73,
   "metadata": {},
   "outputs": [],
   "source": [
    "size_of_communities = [len(communities[main_node]) for main_node in generators]\n",
    "i = 0\n",
    "list_of_colors = ['#e6194B', '#3cb44b', '#4363d8', '#f58231', '#911eb4', '#42d4f4', '#f032e6', '#469990', '#9A6324', '#800000', '#808000', '#000075', '#a9a9a9', '#000000']\n",
    "for main_node in communities.keys():\n",
    "    if len(communities[main_node]) >= 0:\n",
    "        i += 1\n",
    "        actual_name = \"communities/Community_size_\"+str(len(communities[main_node]))+\"_Node_\"+str(main_node)+\".jpg\"\n",
    "        save_graph_community(G, actual_name, communities[main_node], list_of_colors[i%len(list_of_colors)])"
   ]
  },
  {
   "cell_type": "code",
   "execution_count": 74,
   "metadata": {},
   "outputs": [
    {
     "name": "stdout",
     "output_type": "stream",
     "text": [
      "2434 2662 68 32\n",
      "2585 2586 18 110\n",
      "2585 2717 18 108\n",
      "1091 1166 391 117\n",
      "490 2542 140 95\n",
      "3312 3351 467 16\n"
     ]
    },
    {
     "data": {
      "image/png": "[encoded data removed]",
      "text/plain": [
       "<Figure size 432x288 with 1 Axes>"
      ]
     },
     "metadata": {},
     "output_type": "display_data"
    }
   ],
   "source": [
    "def distance_between_generators(G, list_of_generators):\n",
    "    distance = [[0 for x in range(len(list_of_generators))] for y in range(len(list_of_generators))]\n",
    "    for i in range(len(list_of_generators)):\n",
    "        initial = list_of_generators[i]\n",
    "        distances = nx.shortest_path_length(G, source=initial)\n",
    "        for j in range(len(list_of_generators)):\n",
    "            final = list_of_generators[j]\n",
    "            distance[i][j] = distances[final]\n",
    "\n",
    "    return distance\n",
    "\n",
    "distances_generators = distance_between_generators(G, generators)\n",
    "closest_generators = []\n",
    "G_new_1 = nx.Graph()\n",
    "for i in range(len(generators)):\n",
    "    for j in range(len(generators)):\n",
    "        if generators[i] < generators[j] and distances_generators[i][j] == 1:\n",
    "            print(generators[i], generators[j], len(communities[generators[i]]), len(communities[generators[j]]))\n",
    "            G_new_1.add_edge(generators[i], generators[j])\n",
    "nx.draw_kamada_kawai(G_new_1, node_size=50, with_labels=True)"
   ]
  },
  {
   "cell_type": "code",
   "execution_count": 75,
   "metadata": {},
   "outputs": [
    {
     "name": "stdout",
     "output_type": "stream",
     "text": [
      "2434 2586 68 110\n",
      "2434 2608 68 84\n",
      "2439 2617 24 210\n",
      "2575 2608 15 84\n",
      "2575 2936 15 34\n",
      "1166 1334 117 85\n",
      "2586 2717 110 108\n",
      "1224 1326 69 94\n",
      "490 2800 140 21\n",
      "2542 2800 95 21\n"
     ]
    },
    {
     "data": {
      "image/png": "[encoded data removed]",
      "text/plain": [
       "<Figure size 432x288 with 1 Axes>"
      ]
     },
     "metadata": {},
     "output_type": "display_data"
    }
   ],
   "source": [
    "closest_generators = []\n",
    "G_new_2 = nx.Graph()\n",
    "for i in range(len(generators)):\n",
    "    for j in range(len(generators)):\n",
    "        if generators[i] < generators[j] and distances_generators[i][j] == 2:\n",
    "            print(generators[i], generators[j], len(communities[generators[i]]), len(communities[generators[j]]))\n",
    "            G_new_2.add_edge(generators[i], generators[j])\n",
    "nx.draw(G_new_2, node_size=50, with_labels=True)"
   ]
  },
  {
   "cell_type": "code",
   "execution_count": 76,
   "metadata": {},
   "outputs": [
    {
     "name": "stdout",
     "output_type": "stream",
     "text": [
      "3329 1\n",
      "2434 2\n",
      "1030 3\n",
      "2439 1\n",
      "3468 1\n",
      "4878 1\n",
      "2575 1\n",
      "1166 1\n",
      "3351 1\n",
      "2585 1\n",
      "2586 2\n",
      "3355 1\n",
      "1309 2\n",
      "2717 3\n",
      "1326 1\n",
      "2608 2\n",
      "1460 1\n",
      "1334 1\n",
      "3895 1\n",
      "2617 38\n",
      "831 1\n",
      "1091 38\n",
      "1224 1\n",
      "2382 1\n",
      "1106 38\n",
      "725 1\n",
      "2662 1\n",
      "4199 38\n",
      "4458 38\n",
      "2282 1\n",
      "490 38\n",
      "1005 1\n",
      "2542 1\n",
      "3312 38\n",
      "2800 1\n",
      "2936 2\n",
      "2553 5\n",
      "3838 1\n"
     ]
    }
   ],
   "source": [
    "def get_capacities(G, list_of_generators):\n",
    "    capacities = {}\n",
    "    communities = get_communities(G, list_of_generators)\n",
    "    for generator in communities.keys():\n",
    "        capacities[generator] = len(communities[generator])\n",
    "    return capacities\n",
    "\n",
    "def shutdown_generator(G, closed_gen, list_of_generators, ratio=2):\n",
    "    G2 = nx.Graph()\n",
    "    G2 = G.copy()\n",
    "    capacities_original = get_capacities(G2, list_of_generators)\n",
    "\n",
    "    removed_nodes = []\n",
    "    nodes_to_remove = [closed_gen]\n",
    "    while nodes_to_remove:\n",
    "        node_to_remove = nodes_to_remove.pop(0)\n",
    "        removed_nodes.append(node_to_remove)\n",
    "        list_of_generators.remove(node_to_remove)\n",
    "        new_capacities = get_capacities(G2, list_of_generators)\n",
    "        for node in list_of_generators:\n",
    "            if new_capacities[node] > ratio*capacities_original[node]:\n",
    "                if node not in nodes_to_remove:\n",
    "                    nodes_to_remove.append(node)\n",
    "    return removed_nodes\n",
    "    \n",
    "def simmulate_shutdowns(G, list_of_generators):   \n",
    "    for generator in list_of_generators:\n",
    "        aux_list = list_of_generators.copy()\n",
    "        affected_generators = shutdown_generator(G, generator, aux_list)\n",
    "        if(len(affected_generators)>0):\n",
    "            print(generator,len(affected_generators))\n",
    "\n",
    "simmulate_shutdowns(G, generators)\n"
   ]
  },
  {
   "cell_type": "code",
   "execution_count": 77,
   "metadata": {},
   "outputs": [
    {
     "name": "stdout",
     "output_type": "stream",
     "text": [
      "3329 5\n",
      "2434 5\n",
      "1030 5\n",
      "2439 1\n",
      "3468 1\n",
      "4878 5\n",
      "2575 1\n",
      "1166 5\n",
      "3351 1\n",
      "2585 1\n",
      "2586 5\n",
      "3355 1\n",
      "1309 38\n",
      "2717 5\n",
      "1326 5\n",
      "2608 7\n",
      "1460 5\n",
      "1334 5\n",
      "3895 1\n",
      "2617 6\n",
      "831 5\n",
      "1091 38\n",
      "1224 1\n",
      "2382 5\n",
      "1106 5\n",
      "725 5\n",
      "2662 1\n",
      "4199 5\n",
      "4458 5\n",
      "2282 5\n",
      "490 5\n",
      "1005 5\n",
      "2542 5\n",
      "3312 38\n",
      "2800 1\n",
      "2936 1\n",
      "2553 1\n",
      "3838 1\n"
     ]
    }
   ],
   "source": [
    "G_new = G.copy()\n",
    "from itertools import combinations\n",
    "\n",
    "for u,v in combinations(generators, 2):\n",
    "    G_new.add_edge(u,v)\n",
    "\n",
    "simmulate_shutdowns(G_new, generators)"
   ]
  }
 ],
 "metadata": {
  "interpreter": {
   "hash": "465bc43bf4cbae58c142e3527ff2b05702dd810bc8ebc4f627e0af6c067b87a4"
  },
  "kernelspec": {
   "display_name": "Python 3.9.7 ('base')",
   "language": "python",
   "name": "python3"
  },
  "language_info": {
   "codemirror_mode": {
    "name": "ipython",
    "version": 3
   },
   "file_extension": ".py",
   "mimetype": "text/x-python",
   "name": "python",
   "nbconvert_exporter": "python",
   "pygments_lexer": "ipython3",
   "version": "3.9.7"
  }
 },
 "nbformat": 4,
 "nbformat_minor": 2
}
