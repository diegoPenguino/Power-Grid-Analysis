{
 "cells": [
  {
   "cell_type": "code",
   "execution_count": 279,
   "metadata": {},
   "outputs": [],
   "source": [
    "import networkx as nx\n",
    "\n",
    "G = nx.Graph()\n",
    "G = nx.read_gml('power_grid.gml', label=None)"
   ]
  },
  {
   "cell_type": "code",
   "execution_count": 280,
   "metadata": {},
   "outputs": [
    {
     "name": "stdout",
     "output_type": "stream",
     "text": [
      "Number of nodes:  4941\n",
      "Number of edges:  6594\n",
      "Network has no cycles:  False\n"
     ]
    }
   ],
   "source": [
    "def is_acyclic(G):\n",
    "    return nx.cycle_basis(G) == []\n",
    "\n",
    "def print_relevant_info(G):\n",
    "    print(\"Number of nodes: \", G.number_of_nodes())\n",
    "    print(\"Number of edges: \", G.number_of_edges())\n",
    "    print(\"Network has no cycles: \", is_acyclic(G))\n",
    "\n",
    "print_relevant_info(G)"
   ]
  },
  {
   "cell_type": "code",
   "execution_count": 281,
   "metadata": {},
   "outputs": [],
   "source": [
    "def bfs_by_ratio(G, node, max_dist):\n",
    "    visited = [node]\n",
    "    queue = [node]\n",
    "    distance = [-1]*(G.number_of_nodes() + 1)\n",
    "    distance [node] = 0\n",
    "    while queue:\n",
    "        node = queue.pop(0)\n",
    "        for neighbour in G.neighbors(node):\n",
    "            if neighbour not in visited and distance[node] + 1 <= max_dist:\n",
    "                visited.append(neighbour)\n",
    "                queue.append(neighbour)\n",
    "                distance[neighbour] = distance[node] + 1\n",
    "    return len(visited)\n",
    "\n",
    "def diego_centrality(G, ratio=3):\n",
    "    centrality = {}\n",
    "    for node in G.nodes:\n",
    "        centrality[node] = bfs_by_ratio(G, node, ratio)\n",
    "    return centrality\n",
    "        "
   ]
  },
  {
   "cell_type": "code",
   "execution_count": 282,
   "metadata": {},
   "outputs": [],
   "source": [
    "def get_best_nodes_by_centrality(centrality_funtion, G, number_of_nodes):\n",
    "    centrality_values = centrality_funtion(G)\n",
    "    amount = 0\n",
    "    aux = list((b, a) for a, b in centrality_values.items())\n",
    "    aux.sort(reverse=True)\n",
    "    ret = []\n",
    "    for i in aux:\n",
    "        if amount >= number_of_nodes:\n",
    "            break\n",
    "        amount += 1\n",
    "        ret.append(i)\n",
    "    return ret\n"
   ]
  },
  {
   "cell_type": "code",
   "execution_count": 283,
   "metadata": {},
   "outputs": [],
   "source": [
    "def get_intersection(list1, list2):\n",
    "    return list(set(list1) & set(list2))\n",
    "\n",
    "def get_intersections(result1, result2, max_size):\n",
    "    list1 = []\n",
    "    list2 = []\n",
    "    result = [[]]\n",
    "    for size in range(max_size):\n",
    "        list1.append(result1[size][1])\n",
    "        list2.append(result2[size][1])\n",
    "        result.append(get_intersection(list1, list2))\n",
    "    return result\n",
    "\n",
    "#get_intersections(nx.betweenness_centrality, nx.degree_centrality, G, 100)"
   ]
  },
  {
   "cell_type": "code",
   "execution_count": 284,
   "metadata": {},
   "outputs": [
    {
     "name": "stdout",
     "output_type": "stream",
     "text": [
      "0\n",
      "1\n",
      "2\n",
      "3\n"
     ]
    }
   ],
   "source": [
    "best = []\n",
    "amount = 209\n",
    "best.append(get_best_nodes_by_centrality(nx.degree_centrality, G, amount))                      #degree centrality      (0)\n",
    "print(0)\n",
    "best.append(get_best_nodes_by_centrality(nx.pagerank, G, amount))                               #pagerank               (1)\n",
    "print(1)\n",
    "best.append(get_best_nodes_by_centrality(nx.subgraph_centrality, G, amount))                    #Subgraph centrality    (2)\n",
    "print(2)\n",
    "best.append(get_best_nodes_by_centrality(diego_centrality, G, amount))                          #New centrality         (3)\n",
    "print(3)"
   ]
  },
  {
   "cell_type": "code",
   "execution_count": 285,
   "metadata": {},
   "outputs": [
    {
     "name": "stdout",
     "output_type": "stream",
     "text": [
      "0 1  ->  166\n",
      "0 2  ->  143\n",
      "0 3  ->  96\n",
      "1 2  ->  103\n",
      "1 3  ->  72\n",
      "2 3  ->  92\n"
     ]
    }
   ],
   "source": [
    "from itertools import combinations\n",
    "\n",
    "for i, j in combinations(range(len(best)), 2):\n",
    "    aux = [len(x) for x in get_intersections(best[i], best[j], amount)]\n",
    "    print(i, j,\" -> \", aux[-1], end = '\\n')"
   ]
  },
  {
   "cell_type": "code",
   "execution_count": 286,
   "metadata": {},
   "outputs": [
    {
     "name": "stdout",
     "output_type": "stream",
     "text": [
      "[2561, 2434, 1030, 2439, 2574, 2575, 1166, 2959, 1170, 4373, 2585, 2586, 2458, 2717, 1309, 2596, 680, 681, 4395, 2604, 2553, 2607, 2608, 2554, 2485, 1334, 2617, 2235, 2493, 1090, 1091, 2883, 3783, 4172, 1106, 2522, 4187, 4448, 1506, 2533, 2662, 4199, 2918, 4218, 4458, 490, 2538, 2542, 3312, 2545, 1140, 2548, 2936, 4345, 4346, 639] 56\n"
     ]
    }
   ],
   "source": [
    "generators = get_intersection([x[1] for x in best[0]], [x[1] for x in best[1]])\n",
    "generators = get_intersection(generators, [x[1] for x in best[2]])\n",
    "generators = get_intersection(a, [x[1] for x in best[3]])\n",
    "print(generators, len(generators))"
   ]
  },
  {
   "cell_type": "code",
   "execution_count": 287,
   "metadata": {},
   "outputs": [
    {
     "data": {
      "image/png": "[encoded data removed]",
      "text/plain": [
       "<Figure size 432x288 with 1 Axes>"
      ]
     },
     "metadata": {
      "needs_background": "light"
     },
     "output_type": "display_data"
    }
   ],
   "source": [
    "import numpy as np\n",
    "import matplotlib.pyplot as plt\n",
    "\n",
    "def addlabels(x,y):\n",
    "    for i in range(len(x)):\n",
    "        plt.text(i, y[i], y[i], ha = 'center')\n",
    "\n",
    "degree_distribution = {}\n",
    "for i in G.degree:\n",
    "    if i[1] in degree_distribution:\n",
    "        degree_distribution[i[1]] += 1\n",
    "    else:\n",
    "        degree_distribution[i[1]] = 1\n",
    "\n",
    "aux = [(x, y) for (x, y) in degree_distribution.items()]\n",
    "aux.sort()\n",
    "x = [0]\n",
    "y = [0]\n",
    "\n",
    "for i in aux:\n",
    "    x.append(i[0])\n",
    "    y.append(i[1])\n",
    "\n",
    "plt.bar(x, y, tick_label=[str(val) for val in x], width=0.9)\n",
    "plt.title(\"Degree distribution of the network\")\n",
    "\n",
    "addlabels(x,y)\n",
    "plt.xlabel(\"Number of connections\")\n",
    "plt.ylabel(\"Number of nodes\")\n",
    "plt.savefig(\"Deg_distribution.jpg\", dpi=300)\n",
    "plt.show()"
   ]
  },
  {
   "cell_type": "code",
   "execution_count": 288,
   "metadata": {},
   "outputs": [],
   "source": [
    "from matplotlib import pylab\n",
    "pos = nx.spring_layout(G)\n"
   ]
  },
  {
   "cell_type": "code",
   "execution_count": 302,
   "metadata": {},
   "outputs": [],
   "source": [
    "colors = []\n",
    "size_node = []\n",
    "edges_color = '#ffdc73'\n",
    "\n",
    "def set_colors(gen_color, norm_color, terminal_color):\n",
    "    global colors\n",
    "    global size_node\n",
    "    colors = []\n",
    "    size_node = []\n",
    "    for node in G.nodes:\n",
    "        if node in generators:\n",
    "            colors.append(gen_color)\n",
    "            size_node.append(160)\n",
    "        else:\n",
    "            if G.degree[node] != 1:\n",
    "                colors.append(norm_color)\n",
    "                size_node.append(20)\n",
    "            else:\n",
    "                colors.append(terminal_color)\n",
    "                size_node.append(40)\n",
    "\n",
    "set_colors('#23ccad', '#c70039', 'black')"
   ]
  },
  {
   "cell_type": "code",
   "execution_count": 303,
   "metadata": {},
   "outputs": [],
   "source": [
    "def save_graph(graph,file_name):\n",
    "    plt.figure(num=None, figsize=(30, 30), dpi=160)\n",
    "    plt.axis('off')\n",
    "    fig = plt.figure(1)\n",
    "    \n",
    "    nx.draw_networkx(graph, pos, with_labels=False, node_size=size_node, node_color=colors, edge_color=edges_color)\n",
    "\n",
    "    cut = 1.00\n",
    "    xmax = cut * max(xx for xx, yy in pos.values())\n",
    "    ymax = cut * max(yy for xx, yy in pos.values())\n",
    "    xmin = cut * min(xx for xx, yy in pos.values())\n",
    "    ymin = cut * min(yy for xx, yy in pos.values())\n",
    "    plt.xlim(xmin, xmax)\n",
    "    plt.ylim(ymin, ymax)\n",
    "    \n",
    "    plt.savefig(file_name,bbox_inches=\"tight\")\n",
    "    pylab.close()\n",
    "    del fig\n",
    "\n",
    "save_graph(G,\"my_graph.pdf\")"
   ]
  },
  {
   "cell_type": "code",
   "execution_count": 306,
   "metadata": {},
   "outputs": [
    {
     "name": "stdout",
     "output_type": "stream",
     "text": [
      "2561 True 2434 False 1030 False 2439 False 2574 False 2575 False 1166 False 2959 False 1170 False 4373 False 2585 False 2586 False 2458 False 2717 False 1309 False 2596 False 680 False 681 False 4395 False 2604 False 2553 False 2607 False 2608 False 2554 False 2485 False 1334 False 2617 False 2235 False 2493 False 1090 False 1091 False 2883 False 3783 False 4172 False 1106 False 2522 False 4187 False 4448 False 1506 False 2533 False 2662 False 4199 False 2918 False 4218 False 4458 False 490 False 2538 False 2542 False 3312 False 2545 False 1140 False 2548 False 2936 False 4345 False 4346 False 639 False "
     ]
    }
   ],
   "source": [
    "G_aux = G.copy()\n",
    "gen2 = generators.copy()\n",
    "for node in gen2:\n",
    "    print(node, end = ' ')\n",
    "    G_aux.remove_node(node)\n",
    "    print(nx.is_connected(G_aux), end=' ')\n"
   ]
  },
  {
   "cell_type": "code",
   "execution_count": 293,
   "metadata": {},
   "outputs": [
    {
     "name": "stdout",
     "output_type": "stream",
     "text": [
      "[2434, 1030, 2439, 2574, 2575, 1166, 2959, 2586, 2717, 1309, 680, 4395, 2604, 2608, 1334, 2493, 1090, 3783, 1106, 2522, 4187, 4448, 1506, 2662, 4199, 4458, 490, 2542, 1140, 2548, 2936, 2553, 4218, 639] 34\n"
     ]
    }
   ],
   "source": [
    "articulation_points = list(nx.articulation_points(G))\n",
    "articulation_generators = get_intersection(articulation_points, generators)\n",
    "print(articulation_generators, len(articulation_generators))"
   ]
  },
  {
   "cell_type": "code",
   "execution_count": 304,
   "metadata": {},
   "outputs": [],
   "source": [
    "colors = []\n",
    "size_node = []\n",
    "\n",
    "for node in G.nodes:\n",
    "    if node in articulation_generators:\n",
    "        colors.append('#23ccad')\n",
    "        size_node.append(250)\n",
    "    else:\n",
    "        colors.append('black')\n",
    "        size_node.append(20)\n",
    "save_graph(G,\"articulation_points.pdf\")"
   ]
  },
  {
   "cell_type": "code",
   "execution_count": null,
   "metadata": {},
   "outputs": [],
   "source": [
    "distances_family = [(100, -1)]*(G.number_of_nodes() + 1)\n",
    "#(distance, family)\n",
    "\n",
    "def BFS_family(init_node):\n",
    "    queue = [init_node]\n",
    "    global distances_family    \n",
    "    distances_family [init_node] = (0, init_node)\n",
    "    while queue:\n",
    "        node = queue.pop(0)\n",
    "        for neighbour in G.neighbors(node):\n",
    "            if distances_family[node][0] + 1 <= distances_family[neighbour][0]:\n",
    "                queue.append(neighbour)\n",
    "                distances_family[neighbour] = (distances_family[node][0] + 1, init_node)\n",
    "\n",
    "for node in generators:\n",
    "    BFS_family(node)\n",
    "\n",
    "print(distances_family)"
   ]
  },
  {
   "cell_type": "code",
   "execution_count": 310,
   "metadata": {},
   "outputs": [
    {
     "name": "stdout",
     "output_type": "stream",
     "text": [
      "2235 [0, 383, 384, 385, 386, 387, 389, 393, 395, 396, 397, 398, 399, 400, 407, 408, 413, 414, 415, 416, 417, 418, 419, 420, 421, 424, 425, 426, 427, 428, 429, 437, 443, 444, 445, 446, 447, 448, 449, 450, 451, 452, 453, 454, 455, 456, 459, 462, 463, 464, 465, 467, 468, 469, 470, 515, 516, 517, 518, 519, 520, 790, 840, 2205, 2206, 2207, 2208, 2210, 2211, 2212, 2213, 2214, 2215, 2216, 2217, 2218, 2219, 2220, 2221, 2222, 2223, 2224, 2225, 2226, 2227, 2228, 2229, 2230, 2231, 2232, 2234, 2235, 2236, 2237, 2238, 2239, 2240, 2243, 2244, 2245, 2246, 2247, 2254, 2255, 2256, 2257, 2258, 2259, 2260, 2261, 2262, 2263, 2264, 2265, 2267, 2268, 2269, 2270, 2271, 2273, 2274, 2275, 2276, 2277, 2278, 2280, 2281, 2282, 2283, 2284, 2285, 2286, 2287, 2288, 2289, 2290, 2291, 2292, 2293, 2294, 2295, 2296, 2297, 2298, 2299, 2300, 2301, 2302, 2303, 2304, 2306, 2307, 2308, 2309, 2312, 2313, 2314, 2315, 2316, 2317, 2318, 2319, 2320, 2321, 2322, 2323, 2324, 2325, 2326, 2327, 2328, 2329, 2330, 2331, 2332, 2333, 2334, 2335, 2336, 2337, 2338, 2339, 2340, 2341, 2342, 2343, 2345, 2346, 2347, 2348, 2349, 2350, 2351, 2352, 2353, 2354, 2356, 2357, 2358, 2359, 2360, 2362, 2363, 2364, 2365, 2366, 2367, 2368, 2369, 2370, 2371, 2372, 2373, 2374, 2375, 2376, 2377, 2378, 2379, 2380, 2381, 2382, 2383, 2384, 2385, 2386, 2387, 2388, 2389, 2390, 2391, 2392, 2393, 2394, 2395, 2396, 2397, 2398, 2399, 2400, 2401, 2402, 2403, 2404, 2405, 2406, 2407, 2408, 2411, 2415, 2416, 2418, 2419, 2420, 2421, 2422, 3449, 3476, 3545, 3611, 3617, 3618, 3642, 3649, 3669, 3710, 3947, 3949, 3950, 3951, 3952, 3954, 3966, 3973, 3974, 3975, 3982, 3984, 3985, 3986, 3987, 3988, 3994, 3995, 3998, 4006, 4007, 4035, 4040, 4041, 4042, 4043, 4048, 4049, 4059, 4060, 4061, 4062, 4063, 4064, 4065, 4066, 4067, 4068, 4071, 4077, 4078, 4477, 4484, 4493, 4505, 4506, 4510, 4540, 4546, 4550, 4558, 4600, 4624, 4658, 4660, 4688, 4700, 4789, 4797, 4828, 4829, 4832, 4835, 4836, 4837, 4840, 4841, 4842, 4843, 4844, 4849, 4853, 4854, 4857, 4858, 4859, 4860, 4866, 4874, 4877, 4884, 4885, 4887, 4889, 4897]\n",
      "\n",
      "3312 [1, 2, 2209, 2233, 2241, 2242, 2248, 2249, 2250, 2251, 2252, 2253, 2279, 2305, 2310, 2311, 2355, 2361, 2409, 2410, 2412, 2423, 3293, 3294, 3295, 3296, 3297, 3298, 3299, 3300, 3301, 3302, 3303, 3304, 3305, 3306, 3307, 3308, 3309, 3310, 3311, 3312, 3313, 3314, 3315, 3316, 3317, 3319, 3320, 3321, 3322, 3323, 3324, 3325, 3326, 3327, 3328, 3329, 3330, 3331, 3332, 3333, 3334, 3335, 3336, 3337, 3338, 3339, 3340, 3341, 3342, 3343, 3344, 3345, 3346, 3347, 3348, 3349, 3350, 3351, 3352, 3353, 3354, 3355, 3356, 3357, 3358, 3359, 3360, 3361, 3362, 3363, 3364, 3365, 3366, 3367, 3368, 3369, 3370, 3371, 3373, 3374, 3375, 3376, 3377, 3378, 3379, 3380, 3382, 3383, 3384, 3386, 3388, 3389, 3390, 3391, 3392, 3393, 3394, 3395, 3396, 3397, 3398, 3399, 3400, 3401, 3402, 3403, 3404, 3405, 3406, 3407, 3408, 3409, 3410, 3411, 3412, 3413, 3414, 3415, 3416, 3417, 3418, 3419, 3420, 3421, 3422, 3423, 3424, 3425, 3426, 3427, 3428, 3429, 3430, 3431, 3432, 3433, 3434, 3435, 3436, 3437, 3438, 3439, 3440, 3441, 3442, 3443, 3444, 3445, 3446, 3447, 3448, 3450, 3451, 3452, 3453, 3454, 3455, 3456, 3457, 3458, 3459, 3460, 3461, 3462, 3463, 3464, 3465, 3466, 3467, 3468, 3469, 3470, 3471, 3472, 3474, 3475, 3477, 3478, 3479, 3480, 3481, 3482, 3483, 3484, 3485, 3486, 3487, 3488, 3489, 3490, 3491, 3492, 3493, 3494, 3495, 3496, 3497, 3498, 3499, 3500, 3501, 3502, 3503, 3504, 3505, 3506, 3507, 3508, 3509, 3510, 3511, 3512, 3513, 3514, 3515, 3516, 3517, 3518, 3519, 3520, 3521, 3522, 3523, 3524, 3525, 3526, 3527, 3528, 3529, 3530, 3531, 3532, 3533, 3534, 3535, 3536, 3537, 3538, 3539, 3540, 3541, 3542, 3546, 3547, 3548, 3549, 3550, 3551, 3552, 3553, 3554, 3555, 3556, 3557, 3558, 3559, 3560, 3561, 3562, 3563, 3564, 3565, 3566, 3567, 3568, 3569, 3570, 3571, 3572, 3573, 3574, 3575, 3576, 3577, 3578, 3579, 3580, 3581, 3582, 3583, 3584, 3585, 3586, 3587, 3588, 3589, 3590, 3591, 3592, 3593, 3594, 3595, 3596, 3597, 3598, 3599, 3600, 3601, 3602, 3603, 3604, 3605, 3606, 3607, 3608, 3609, 3610, 3612, 3613, 3614, 3615, 3616, 3619, 3620, 3621, 3622, 3623, 3624, 3625, 3626, 3627, 3628, 3629, 3630, 3631, 3632, 3633, 3634, 3635, 3636, 3637, 3638, 3639, 3640, 3641, 3643, 3644, 3645, 3646, 3647, 3648, 3650, 3651, 3652, 3653, 3654, 3655, 3656, 3657, 3658, 3659, 3660, 3661, 3662, 3663, 3664, 3665, 3666, 3667, 3668, 3670, 3671, 3672, 3673, 3674, 3675, 3676, 3677, 3678, 3679, 3680, 3681, 3682, 3683, 3684, 3685, 3686, 3687, 3688, 3689, 3690, 3691, 3692, 3693, 3694, 3695, 3696, 3697, 3698, 3699, 3700, 3701, 3702, 3703, 3704, 3705, 3706, 3707, 3708, 3709, 3711, 3712, 3713, 3714, 3715, 3716, 3717, 3718, 3719, 3720, 3721, 3722, 3723, 3724, 3725, 3726, 3727, 3728, 3729, 3730, 3731, 3732, 3733, 3734, 3735, 3736, 3737, 3738, 3739, 3740, 3741, 3742, 3743, 3744, 3745, 3746, 3747, 3748, 4467, 4468, 4469, 4470, 4471, 4472, 4473, 4474, 4475, 4476, 4478, 4479, 4480, 4481, 4482, 4483, 4485, 4488, 4489, 4490, 4491, 4492, 4494, 4495, 4496, 4498, 4499, 4500, 4501, 4502, 4503, 4504, 4507, 4508, 4509, 4511, 4512, 4513, 4514, 4515, 4516, 4517, 4518, 4519, 4520, 4521, 4522, 4523, 4524, 4525, 4526, 4527, 4528, 4529, 4530, 4531, 4532, 4534, 4535, 4536, 4537, 4538, 4539, 4541, 4542, 4543, 4544, 4545, 4548, 4549, 4551, 4552, 4553, 4554, 4555, 4556, 4557, 4559, 4560, 4561, 4562, 4563, 4564, 4565, 4566, 4567, 4568, 4569, 4570, 4571, 4572, 4573, 4574, 4575, 4576, 4577, 4578, 4579, 4580, 4581, 4582, 4583, 4584, 4585, 4586, 4587, 4589, 4590, 4591, 4592, 4593, 4594, 4595, 4596, 4597, 4598, 4599, 4601, 4602, 4603, 4604, 4605, 4607, 4608, 4609, 4610, 4611, 4612, 4613, 4614, 4615, 4616, 4617, 4618, 4619, 4620, 4621, 4622, 4623, 4625, 4626, 4627, 4628, 4629, 4630, 4631, 4632, 4633, 4634, 4635, 4636, 4637, 4638, 4639, 4640, 4641, 4642, 4643, 4644, 4645, 4646, 4647, 4648, 4649, 4650, 4651, 4652, 4653, 4654, 4655, 4656, 4657, 4659, 4661, 4662, 4663, 4664, 4665, 4666, 4667, 4668, 4669, 4670, 4671, 4672, 4673, 4674, 4675, 4676, 4677, 4678, 4679, 4680, 4681, 4682, 4683, 4684, 4685, 4686, 4687, 4689, 4690, 4691, 4696, 4697, 4698, 4699, 4701, 4702, 4704, 4705, 4706, 4707, 4708, 4709, 4710, 4711, 4712, 4713, 4714, 4715, 4716, 4717, 4718, 4719, 4720, 4721, 4722, 4723, 4724, 4725, 4726, 4727, 4728, 4729, 4730, 4731, 4732, 4733, 4734, 4735, 4736, 4737, 4738, 4739, 4740, 4741, 4742, 4743, 4744, 4745, 4746, 4747, 4748, 4749, 4750, 4751, 4752, 4753, 4754, 4755, 4756, 4757, 4758, 4759, 4760, 4761, 4762, 4763, 4764, 4765, 4766, 4767, 4768, 4769, 4770, 4771, 4772, 4773, 4774, 4775, 4776, 4777, 4778, 4779, 4780, 4781, 4782, 4783, 4784, 4785, 4786, 4790, 4791, 4796, 4799, 4800, 4801, 4802, 4803, 4804, 4805, 4806, 4807, 4808, 4809, 4810, 4811, 4812, 4813, 4814, 4815, 4816, 4817, 4818, 4819, 4820, 4821, 4823, 4824, 4825, 4826, 4827, 4830, 4831, 4833, 4834, 4845, 4846, 4847, 4848, 4861, 4865, 4867, 4868, 4869, 4870, 4875, 4876, 4880, 4883, 4886, 4888, 4895, 4896, 4898, 4899, 4900, 4912, 4915, 4916, 4923, 4925, 4926]\n",
      "\n",
      "1091 [3, 238, 288, 290, 317, 318, 336, 338, 339, 739, 740, 741, 742, 743, 744, 745, 746, 747, 748, 749, 750, 751, 752, 753, 754, 755, 756, 757, 758, 759, 760, 761, 762, 763, 764, 765, 766, 767, 768, 769, 770, 771, 772, 773, 774, 775, 776, 777, 778, 779, 780, 781, 782, 783, 784, 785, 786, 787, 788, 789, 791, 792, 793, 794, 795, 796, 797, 798, 799, 800, 801, 802, 803, 804, 805, 806, 807, 808, 809, 810, 811, 812, 813, 814, 815, 816, 817, 818, 819, 820, 821, 822, 823, 824, 1063, 1064, 1065, 1066, 1085, 1086, 1088, 1091, 1092, 1096, 1097, 1114, 1118, 1119, 1120, 1124, 1126, 1127, 1128, 1144, 1155, 1156, 1160, 1161, 1176, 1186, 1202, 1203, 1204, 1205, 1214, 1221, 1222, 1227, 1228, 1229, 1230, 1231, 1250, 1253, 1254, 1257, 1258, 1259, 1260, 1270, 1271, 1285, 1287, 1288, 1289, 1290, 1292, 1331, 1342, 1343, 1350, 1353, 1354, 1364, 1367, 1378, 1379, 1388, 1389, 1399, 1400, 1401, 1402, 1409, 1420, 1427, 1428, 1429, 1437, 1470, 1477, 1478, 1488, 1501, 1504, 1508, 1524, 1525, 1576, 1593, 1625, 1628, 1632, 1634, 1639, 1663, 1774, 1783, 1801, 1809, 1825, 1837, 1852, 1859, 1860, 1863, 1876, 1900, 1901, 1911, 1932, 1933, 1934, 1935, 1944, 1949, 1956, 1971, 1991, 1992, 1996, 2004, 2021, 2049, 2050, 2069, 2075, 2086, 2092, 2104, 2109, 2112, 2116, 2141, 2164, 2266, 2272, 2413, 2414, 2417, 4420, 4421, 4422, 4423, 4424, 4427, 4429, 4432, 4434, 4435, 4436, 4437, 4438, 4439, 4440, 4441, 4442, 4443, 4486, 4487, 4497, 4533, 4547, 4588, 4606, 4692, 4693, 4694, 4695, 4703, 4787, 4788, 4792, 4793, 4794, 4795, 4798, 4822, 4927, 4928, 4929, 4930, 4931, 4932, 4933, 4934, 4935, 4936, 4937, 4938, 4939, 4940]\n",
      "\n",
      "1030 [4, 18, 19, 20, 21, 27, 29, 30, 31, 32, 33, 34, 35, 36, 37, 38, 39, 44, 45, 46, 47, 51, 52, 54, 55, 56, 60, 62, 63, 64, 65, 66, 67, 68, 69, 70, 78, 79, 80, 87, 88, 89, 90, 92, 96, 97, 101, 102, 103, 105, 106, 107, 109, 111, 119, 120, 121, 122, 123, 124, 130, 136, 137, 140, 141, 142, 144, 145, 146, 147, 148, 149, 152, 153, 154, 155, 156, 157, 158, 159, 160, 161, 166, 168, 169, 170, 171, 172, 173, 174, 175, 176, 177, 178, 179, 180, 182, 183, 184, 186, 187, 189, 190, 192, 193, 194, 195, 196, 197, 198, 199, 200, 201, 204, 210, 211, 212, 213, 219, 223, 224, 226, 227, 228, 229, 230, 933, 934, 935, 936, 937, 938, 939, 940, 941, 942, 943, 944, 945, 946, 947, 948, 949, 950, 951, 952, 953, 954, 955, 956, 957, 958, 959, 960, 961, 962, 963, 964, 965, 966, 967, 968, 969, 970, 971, 972, 973, 974, 975, 976, 977, 978, 979, 980, 981, 982, 983, 984, 985, 986, 987, 988, 989, 990, 991, 992, 993, 994, 995, 996, 997, 998, 999, 1000, 1001, 1002, 1003, 1004, 1005, 1006, 1007, 1008, 1009, 1010, 1011, 1012, 1013, 1014, 1015, 1016, 1017, 1018, 1019, 1020, 1021, 1022, 1023, 1024, 1025, 1026, 1027, 1028, 1029, 1030, 1031, 1032, 1033, 1034, 1035, 1036, 1037, 1038, 1039, 1040, 1041, 1042, 1043, 1044, 1045, 1046, 1047, 1048, 1049, 1050, 1051, 1052, 1053, 1054, 1055, 1056, 1057, 1058, 1059, 2344, 3318, 3372, 3381, 3385, 3387, 3473, 3543, 3544, 4838, 4839, 4850, 4851, 4855, 4856, 4862, 4863, 4864, 4871, 4872, 4873, 4878, 4879, 4881, 4890, 4891, 4892, 4893, 4894, 4901, 4902, 4903, 4904, 4905, 4906, 4907, 4908, 4909, 4910, 4911, 4913, 4914, 4917, 4918, 4919, 4920, 4921, 4922, 4924]\n",
      "\n",
      "4448 [5, 6, 7, 8, 9, 10, 11, 12, 13, 14, 15, 16, 17, 22, 23, 24, 25, 26, 28, 40, 41, 42, 43, 48, 49, 50, 53, 57, 58, 59, 61, 71, 72, 73, 74, 75, 76, 77, 81, 82, 83, 84, 85, 86, 91, 93, 94, 98, 104, 110, 114, 115, 125, 131, 132, 133, 134, 135, 138, 139, 143, 150, 151, 162, 163, 164, 165, 167, 181, 185, 188, 191, 202, 203, 205, 208, 209, 214, 215, 216, 217, 218, 220, 221, 222, 225, 231, 232, 233, 234, 236, 237, 475, 476, 477, 478, 479, 480, 482, 484, 485, 486, 489, 492, 493, 494, 495, 496, 497, 498, 499, 2562, 4445, 4446, 4447, 4448, 4460, 4461, 4852, 4882]\n",
      "\n",
      "4458 [95, 99, 100, 108, 116, 117, 118, 126, 127, 128, 129, 206, 207, 235, 474, 500, 501, 506, 507, 508, 509, 510, 511, 512, 513, 514, 521, 522, 533, 534, 535, 539, 540, 541, 542, 543, 544, 545, 546, 549, 550, 553, 554, 558, 559, 560, 561, 565, 566, 569, 570, 571, 572, 573, 574, 825, 826, 827, 828, 829, 830, 831, 832, 833, 834, 835, 836, 837, 838, 839, 841, 842, 843, 844, 845, 846, 847, 848, 849, 850, 851, 852, 853, 854, 855, 856, 857, 858, 859, 860, 861, 862, 863, 864, 865, 866, 867, 868, 869, 870, 871, 872, 873, 874, 875, 876, 877, 878, 879, 880, 881, 882, 883, 884, 885, 886, 887, 888, 889, 890, 891, 892, 893, 894, 895, 896, 897, 898, 899, 900, 901, 902, 903, 904, 905, 906, 907, 908, 909, 910, 911, 912, 913, 914, 915, 916, 917, 918, 919, 920, 921, 922, 923, 924, 925, 926, 927, 928, 929, 930, 931, 932, 2440, 4050, 4051, 4052, 4053, 4069, 4070, 4093, 4094, 4095, 4096, 4098, 4102, 4103, 4104, 4105, 4106, 4107, 4108, 4109, 4113, 4114, 4119, 4120, 4129, 4139, 4144, 4147, 4148, 4149, 4151, 4152, 4163, 4165, 4170, 4171, 4173, 4175, 4176, 4177, 4178, 4179, 4184, 4185, 4204, 4209, 4212, 4215, 4216, 4225, 4276, 4277, 4278, 4279, 4280, 4281, 4282, 4283, 4285, 4286, 4287, 4288, 4289, 4291, 4292, 4293, 4294, 4305, 4306, 4307, 4308, 4309, 4310, 4311, 4312, 4320, 4323, 4324, 4325, 4326, 4444, 4449, 4450, 4451, 4452, 4453, 4454, 4455, 4456, 4457, 4458, 4459, 4462, 4463, 4464, 4465, 4466]\n",
      "\n",
      "680 [112, 113, 483, 575, 576, 577, 578, 581, 582, 583, 584, 585, 588, 589, 590, 591, 592, 593, 594, 595, 596, 597, 598, 599, 600, 601, 602, 603, 604, 605, 606, 607, 608, 609, 610, 611, 614, 619, 620, 625, 626, 627, 628, 629, 630, 637, 642, 645, 646, 652, 656, 657, 658, 659, 660, 661, 662, 665, 666, 667, 670, 671, 672, 673, 674, 680, 682, 683, 690, 691, 692, 693, 694, 695, 696, 697, 698, 699, 704, 705, 706, 707, 709, 710, 711, 712, 713, 714, 721, 722, 723, 726, 728, 729, 730, 737, 738, 3769, 3770]\n",
      "\n",
      "4346 [239, 240, 251, 252, 253, 263, 289, 309, 319, 320, 321, 322, 327, 328, 332, 333, 337, 353, 354, 358, 367, 370, 374, 376, 379, 4328, 4329, 4330, 4331, 4332, 4334, 4335, 4336, 4337, 4341, 4344, 4346, 4348, 4349, 4352, 4353, 4356, 4357, 4360, 4362, 4363, 4369, 4370, 4374, 4375, 4376, 4377, 4378, 4381, 4384, 4385, 4386, 4392, 4398, 4401, 4402, 4407, 4408, 4413, 4415, 4417, 4418, 4425, 4426, 4430, 4431, 4433]\n",
      "\n",
      "1309 [241, 242, 243, 244, 245, 246, 247, 248, 249, 250, 254, 255, 256, 257, 258, 259, 260, 261, 262, 264, 265, 266, 267, 268, 269, 270, 271, 272, 273, 274, 275, 276, 277, 278, 279, 280, 281, 282, 283, 284, 285, 286, 287, 291, 292, 293, 294, 295, 296, 297, 298, 299, 300, 301, 302, 303, 304, 305, 306, 307, 308, 310, 311, 312, 313, 314, 315, 316, 323, 324, 325, 326, 329, 330, 331, 334, 335, 340, 341, 342, 343, 344, 345, 346, 347, 348, 349, 350, 351, 352, 355, 356, 357, 359, 360, 361, 362, 363, 364, 365, 366, 368, 369, 371, 372, 373, 375, 377, 378, 380, 381, 382, 488, 1083, 1089, 1093, 1094, 1095, 1100, 1101, 1104, 1117, 1151, 1164, 1177, 1178, 1183, 1188, 1189, 1201, 1209, 1233, 1234, 1265, 1276, 1277, 1278, 1279, 1295, 1309, 1310, 1311, 1312, 1316, 1335, 1339, 1340, 1341, 1347, 1352, 1356, 1357, 1386, 1387, 1435, 1436, 1446, 1447, 1448, 1460, 1461, 1462, 1463, 1464, 1465, 1466, 1467, 1489, 1503, 1540, 1556, 1558, 1584, 1589, 1599, 1675, 1679, 1706, 1717, 1753, 1814, 1817, 1842, 1855, 1856, 1865, 1908, 1920, 1951, 1953, 2000, 2007, 2012, 2036, 2055, 2056, 2061, 2062, 2066, 2070, 2071, 2072, 2073, 2074, 2077, 2079, 2081, 2082, 2083, 2084, 2085, 2090, 2091, 2094, 2095, 2096, 2101, 2105, 2107, 2108, 2120, 2121, 2122, 2123, 2134, 2135, 2137, 2138, 2139, 2140, 2143, 2144, 2149, 2150, 2159, 2165, 2166, 2168, 2169, 2170, 2171, 2172, 2176, 2179, 2184, 2185, 2186, 2187, 2189, 2190, 2191, 2192, 2195, 2198, 2203, 4428]\n",
      "\n",
      "1506 [388, 390, 391, 392, 394, 401, 402, 403, 404, 405, 406, 409, 410, 411, 412, 423, 430, 431, 432, 433, 434, 435, 436, 438, 439, 440, 441, 442, 457, 458, 460, 461, 466, 471, 472, 473, 1074, 1075, 1076, 1078, 1079, 1141, 1142, 1157, 1158, 1159, 1181, 1194, 1195, 1198, 1199, 1200, 1212, 1215, 1216, 1217, 1244, 1245, 1252, 1284, 1293, 1294, 1296, 1297, 1303, 1304, 1305, 1306, 1321, 1322, 1348, 1349, 1358, 1380, 1392, 1411, 1412, 1414, 1415, 1416, 1426, 1430, 1431, 1433, 1449, 1452, 1474, 1475, 1505, 1506, 1507, 1511, 1512, 1513, 1514, 1519, 1520, 1521, 1522, 1541, 1588, 1594, 1629, 1660, 1678, 1684, 1707, 1735, 1736, 1749, 1765, 1770, 1818, 1827, 1829, 1835, 1844, 1874, 1885, 1891, 1892, 1893, 1905, 1917, 1924, 1965, 1966, 1974, 2019, 2020, 2022, 2030, 2034, 2042, 2046, 2047, 2136, 2156, 2199, 2200, 2201, 2202, 2204]\n",
      "\n",
      "1106 [422, 1071, 1072, 1073, 1102, 1103, 1105, 1106, 1107, 1110, 1111, 1112, 1113, 1115, 1116, 1121, 1122, 1123, 1125, 1129, 1131, 1132, 1133, 1135, 1136, 1137, 1138, 1139, 1143, 1145, 1149, 1150, 1153, 1163, 1179, 1180, 1182, 1185, 1187, 1190, 1191, 1192, 1208, 1219, 1225, 1226, 1232, 1238, 1239, 1242, 1243, 1246, 1248, 1249, 1256, 1266, 1267, 1268, 1269, 1275, 1280, 1281, 1282, 1283, 1291, 1298, 1299, 1302, 1307, 1308, 1313, 1314, 1315, 1317, 1323, 1324, 1325, 1326, 1327, 1328, 1329, 1330, 1338, 1365, 1372, 1373, 1374, 1375, 1376, 1377, 1381, 1382, 1383, 1393, 1397, 1398, 1404, 1405, 1406, 1407, 1417, 1421, 1422, 1423, 1424, 1434, 1441, 1442, 1443, 1451, 1453, 1454, 1455, 1456, 1457, 1459, 1469, 1472, 1476, 1483, 1491, 1492, 1493, 1494, 1499, 1500, 1523, 1532, 1534, 1537, 1543, 1544, 1545, 1546, 1547, 1548, 1550, 1551, 1553, 1554, 1555, 1561, 1562, 1563, 1565, 1571, 1572, 1573, 1574, 1575, 1578, 1579, 1580, 1581, 1582, 1583, 1585, 1590, 1591, 1592, 1595, 1596, 1597, 1598, 1600, 1601, 1602, 1603, 1605, 1606, 1609, 1611, 1615, 1621, 1622, 1623, 1635, 1638, 1640, 1642, 1643, 1645, 1651, 1652, 1653, 1657, 1658, 1659, 1661, 1662, 1665, 1666, 1667, 1668, 1669, 1670, 1671, 1672, 1680, 1685, 1686, 1689, 1690, 1691, 1692, 1693, 1696, 1697, 1698, 1699, 1701, 1703, 1704, 1708, 1709, 1710, 1711, 1714, 1716, 1718, 1720, 1721, 1722, 1724, 1725, 1726, 1730, 1733, 1734, 1739, 1740, 1741, 1742, 1743, 1744, 1745, 1754, 1755, 1756, 1758, 1759, 1760, 1763, 1764, 1766, 1767, 1768, 1769, 1771, 1772, 1776, 1779, 1780, 1782, 1784, 1785, 1786, 1787, 1789, 1790, 1791, 1792, 1793, 1794, 1795, 1796, 1797, 1802, 1803, 1804, 1805, 1808, 1810, 1812, 1815, 1816, 1819, 1820, 1821, 1822, 1826, 1831, 1832, 1833, 1838, 1839, 1840, 1841, 1845, 1848, 1850, 1851, 1854, 1857, 1858, 1861, 1862, 1869, 1870, 1871, 1872, 1873, 1877, 1878, 1879, 1880, 1881, 1886, 1888, 1889, 1890, 1896, 1898, 1899, 1907, 1910, 1912, 1913, 1915, 1918, 1921, 1922, 1923, 1927, 1930, 1931, 1945, 1946, 1947, 1948, 1955, 1957, 1958, 1960, 1962, 1972, 1976, 1977, 1978, 1979, 1982, 1984, 1985, 1986, 1987, 1988, 1993, 1994, 1995, 2001, 2011, 2013, 2014, 2023, 2024, 2025, 2028, 2029, 2031, 2032, 2033, 2038, 2039, 2040, 2041, 2043, 2048, 2051, 2052, 2053, 2054, 2057, 2058, 2059, 2060, 2065, 2067, 2078, 2080, 2087, 2088, 2089, 2093, 2097, 2098, 2099, 2100, 2102, 2106, 2114, 2115, 2118, 2119, 2127, 2128, 2129, 2130, 2133, 2142, 2146, 2147, 2148, 2151, 2152, 2153, 2154, 2155, 2158, 2160, 2161, 2162, 2174, 2175, 2182, 2196, 2197]\n",
      "\n",
      "4172 [481, 487, 491, 2556, 2621, 4081, 4082, 4083, 4084, 4085, 4086, 4097, 4099, 4110, 4111, 4117, 4118, 4122, 4123, 4124, 4125, 4126, 4127, 4128, 4134, 4135, 4136, 4137, 4138, 4153, 4154, 4157, 4158, 4159, 4161, 4162, 4172, 4186, 4190, 4191, 4192, 4193, 4200, 4201, 4220, 4221, 4222, 4223, 4224, 4228, 4229, 4230, 4231, 4232, 4233, 4234, 4237, 4238, 4239, 4240, 4243, 4245, 4246, 4247, 4248, 4250, 4251, 4252, 4253, 4259, 4265, 4268, 4270, 4271, 4272, 4273, 4274, 4275, 4300, 4317]\n",
      "\n",
      "490 [490, 2426, 2464, 2486, 2528, 2543, 2628, 2655, 2664, 2665, 2679, 2680, 2712, 2713, 2799, 2803, 2832, 2833, 2946, 2947, 2949, 2950, 2982, 2984, 2985, 2988, 2990, 3176]\n",
      "\n",
      "4187 [502, 503, 504, 505, 523, 524, 525, 526, 527, 528, 529, 530, 531, 532, 536, 537, 538, 547, 548, 551, 552, 555, 556, 557, 562, 563, 564, 567, 568, 1481, 1482, 4088, 4089, 4115, 4130, 4131, 4133, 4145, 4146, 4167, 4168, 4169, 4180, 4182, 4183, 4187, 4188, 4195, 4196, 4203, 4211, 4226, 4235, 4236, 4254, 4256, 4257, 4261, 4262, 4266, 4284, 4290, 4299, 4318, 4319, 4321, 4322]\n",
      "\n",
      "681 [579, 586, 587, 612, 613, 623, 624, 635, 636, 640, 641, 643, 644, 647, 648, 663, 664, 669, 675, 676, 678, 679, 681, 686, 687, 700, 701, 702, 703, 708, 733, 734]\n",
      "\n",
      "639 [580, 615, 616, 617, 618, 621, 622, 631, 632, 633, 634, 638, 639, 649, 650, 651, 653, 654, 655, 668, 677, 684, 685, 688, 689, 715, 716, 717, 718, 719, 720, 724, 725, 727, 731, 732, 735, 736]\n",
      "\n",
      "1140 [1060, 1061, 1062, 1067, 1068, 1069, 1070, 1081, 1109, 1130, 1140, 1154, 1172, 1173, 1196, 1197, 1218, 1247, 1272, 1273, 1274, 1286, 1300, 1301, 1318, 1319, 1332, 1344, 1345, 1360, 1361, 1362, 1363, 1370, 1371, 1384, 1385, 1410, 1418, 1419, 1444, 1445, 1450, 1458, 1471, 1479, 1480, 1486, 1487, 1495, 1497, 1498, 1535, 1538, 1539, 1542, 1549, 1560, 1564, 1566, 1567, 1568, 1569, 1586, 1604, 1607, 1608, 1612, 1613, 1616, 1617, 1619, 1620, 1626, 1627, 1633, 1644, 1648, 1649, 1655, 1656, 1664, 1673, 1674, 1682, 1687, 1688, 1700, 1702, 1715, 1732, 1751, 1757, 1773, 1775, 1781, 1800, 1806, 1807, 1813, 1823, 1828, 1830, 1834, 1836, 1847, 1864, 1882, 1894, 1895, 1897, 1909, 1919, 1928, 1929, 1936, 1937, 1938, 1942, 1950, 1952, 1961, 1963, 1964, 1969, 1970, 1998, 2002, 2003, 2006, 2035, 2068, 2110, 2111, 2113, 2117, 2163, 2167, 2177, 2178, 2180, 2181]\n",
      "\n",
      "1334 [1077, 1080, 1082, 1084, 1098, 1099, 1193, 1213, 1224, 1235, 1236, 1237, 1255, 1261, 1262, 1263, 1264, 1320, 1333, 1334, 1346, 1366, 1368, 1369, 1390, 1391, 1394, 1395, 1396, 1408, 1425, 1432, 1438, 1439, 1440, 1490, 1502, 1509, 1510, 1515, 1516, 1526, 1528, 1529, 1552, 1559, 1570, 1577, 1618, 1631, 1636, 1637, 1647, 1676, 1677, 1683, 1694, 1695, 1713, 1723, 1727, 1728, 1731, 1737, 1738, 1746, 1750, 1761, 1762, 1778, 1798, 1799, 1811, 1824, 1843, 1868, 1884, 1902, 1903, 1906, 1914, 1916, 1925, 1926, 1939, 1940, 1941, 1943, 1967, 1968, 1975, 1980, 1981, 1983, 1990, 1999, 2016, 2026, 2027, 2126, 2194]\n",
      "\n",
      "1090 [1087, 1090, 1108, 1165, 1220, 1223, 1240, 1251, 1336, 1337, 1351, 1496, 1624, 1630, 1650, 1705, 1719, 1729, 1777, 1788, 1849, 1853, 1959, 1973, 1997, 2005, 2009, 2010, 2015, 2017, 2018]\n",
      "\n",
      "1170 [1134, 1152, 1169, 1170, 1171, 1175, 1210, 1211, 1403, 1468, 1473, 1484, 1485, 1530, 1531, 1533, 1536, 1557, 1610, 1614, 1654, 1712, 1747, 1748, 1752, 1846, 1883, 1887, 1904, 1954, 2008, 2076, 2103, 2131, 2132, 2145, 2157, 2173, 2183, 2188]\n",
      "\n",
      "1166 [1146, 1147, 1148, 1166, 1167, 1168, 1206, 1207, 1359, 1413, 1527, 1587, 1646, 1681, 1866, 1867, 1875, 1989, 2037, 2044, 2045, 2063, 2064, 2124, 2125, 2193]\n",
      "\n",
      "2458 [1162, 1174, 1184, 1241, 1355, 1517, 1518, 1641, 2424, 2425, 2447, 2457, 2458, 2459, 2479, 2480, 2481, 2482, 2507, 2508, 2516, 2517, 2518, 2519, 2555, 2557, 2558, 2565, 2566, 2567, 2568, 2569, 2570, 2571, 2572, 2573, 2591, 2593, 2598, 2599, 2602, 2613, 2666, 2671, 2676, 2677, 2696, 2703, 2704, 2727, 2745, 2771, 2772, 2773, 2780, 2781, 2786, 2787, 2788, 2793, 2796, 2814, 2817, 2818, 2893, 2894, 2895, 2896, 2897, 2898, 2899, 2909, 2910, 2930, 2941, 2967, 2968, 2977, 2983, 2996, 3000, 3001, 3002, 3004, 3009, 3011, 3012, 3023, 3026, 3103, 3110, 3125, 3143, 3152, 3165, 3170, 3203, 3232, 3235, 3245, 3264, 3267, 3287]\n",
      "\n",
      "2533 [2427, 2430, 2435, 2490, 2491, 2495, 2497, 2498, 2513, 2514, 2515, 2520, 2533, 2534, 2564, 2595, 2658, 2659, 2667, 2670, 2729, 2730, 2731, 2732, 2759, 2761, 2762, 2763, 2767, 2768, 2769, 2770, 2821, 2822, 2823, 2824, 2892, 3005, 3008, 3017, 3036, 3056, 3157, 3172, 3179, 3209, 3221, 3231, 3269]\n",
      "\n",
      "2586 [2428, 2431, 2432, 2433, 2436, 2453, 2454, 2460, 2461, 2488, 2489, 2521, 2524, 2540, 2541, 2578, 2582, 2583, 2586, 2590, 2656, 2661, 2669, 2672, 2673, 2697, 2735, 2816, 2827, 2828, 2902, 2911, 2912, 3093, 3133, 3134, 3155, 3190, 3214, 3233, 3252, 3270]\n",
      "\n",
      "2545 [2429, 2448, 2545, 2592, 2637, 2858, 2859, 2860, 2861, 2862, 2863, 3154]\n",
      "\n",
      "2434 [2434, 2470, 2471, 2506, 2535, 2536, 2610, 2619, 2622, 2635, 2638, 2640, 2698, 2699, 2701, 2702, 2777, 2802, 2915, 2965, 2966, 2993, 3067, 3118, 3119, 3138]\n",
      "\n",
      "2439 [2437, 2438, 2439, 2449, 2631, 2633, 2634, 2639, 2682, 2683, 2991, 3196]\n",
      "\n",
      "2493 [2441, 2442, 2443, 2446, 2472, 2473, 2474, 2476, 2477, 2483, 2492, 2493, 2501, 2502, 2509, 2510, 2511, 2512, 2526, 2552, 2559, 2577, 2587, 2588, 2589, 2615, 2616, 2625, 2626, 2627, 2630, 2641, 2642, 2643, 2644, 2645, 2646, 2647, 2648, 2649, 3006, 3007, 3013, 3014, 3015, 3016, 3206, 3208, 3212, 3216, 3217, 3218, 3219, 3224, 3225, 3226, 3227, 3229, 3234, 3236, 3237, 3239, 3240, 3242, 3243, 3247, 3248, 3251, 3254, 3255, 3256, 3257, 3258, 3259, 3260, 3261, 3266, 3272, 3273, 3274, 3292]\n",
      "\n",
      "2604 [2444, 2445, 2504, 2560, 2604, 2609, 2681, 2685, 2686, 2707, 2708, 2711, 2774, 2778, 2782, 2808, 2842, 2879, 2881, 2882, 2940, 2953, 2954, 2955, 2956, 2957, 2962, 2963, 2981, 3003, 3094, 3111, 3117, 3144, 3195, 3210, 3220, 3246, 3263]\n",
      "\n",
      "2717 [2450, 2451, 2465, 2466, 2467, 2576, 2716, 2717, 2719, 2720, 2939, 2989, 3043, 3158, 3169, 3205, 3223, 3244, 3277, 3279, 3948, 3953, 3955, 3956, 3957, 3958, 3959, 3960, 3961, 3962, 3963, 3964, 3965, 3967, 3968, 3969, 3970, 3971, 3972, 3976, 3977, 3978, 3979, 3980, 3981, 3983, 3989, 3990, 3991, 3992, 3993, 3996, 3997, 3999, 4000, 4001, 4002, 4003, 4004, 4005, 4008, 4009, 4010, 4011, 4012, 4013, 4014, 4015, 4016, 4017, 4018, 4019, 4020, 4021, 4022, 4023, 4024, 4025, 4026, 4027, 4028, 4029, 4030, 4031, 4032, 4033, 4034, 4036, 4037, 4038, 4039, 4044, 4045, 4046, 4047, 4054, 4055, 4056, 4057, 4058, 4072, 4073, 4074, 4075, 4076, 4079, 4080]\n",
      "\n",
      "2561 [2452, 2468, 2494, 2527, 2561, 2600, 2694, 2718, 2789, 2804, 2805, 2826, 2921, 2933, 3021, 3022, 3029]\n",
      "\n",
      "2617 [2455, 2456, 2487, 2525, 2617, 2618, 2632, 2700, 2709, 2838, 2885, 2886, 2887, 2888, 2973, 2974, 2975, 3039, 3052, 3105, 3182, 3189, 3204, 3228, 3268]\n",
      "\n",
      "2607 [2462, 2463, 2475, 2503, 2523, 2532, 2594, 2605, 2606, 2607, 2611, 2612, 2650, 2653, 2654, 2733, 2794, 3019, 3040, 3064, 3108, 3183, 3188, 3283, 3288, 3289, 3290, 3291]\n",
      "\n",
      "2596 [2469, 2596, 2636, 2934]\n",
      "\n",
      "2883 [2478, 2629, 2652, 2706, 2739, 2740, 2760, 2766, 2795, 2810, 2815, 2840, 2864, 2878, 2883, 2900, 2901, 2948, 2986, 2987, 3025, 3028, 3037, 3041, 3042, 3100, 3106, 3107, 3120, 3122, 3142, 3153, 3198, 3249]\n",
      "\n",
      "2522 [2484, 2505, 2522, 2614, 2660, 2688, 2689, 2724, 2734, 2736, 2737, 2738, 2746, 2747, 2748, 2749, 2750, 2751, 2752, 2753, 2754, 2755, 2756, 2779, 2783, 2784, 2785, 2806, 2807, 2839, 2857, 2868, 2869, 2919, 2931, 2970, 3010, 3024, 3031, 3032, 3044, 3045, 3046, 3047, 3069, 3070, 3071, 3072, 3073, 3074, 3075, 3076, 3080, 3081, 3082, 3083, 3084, 3085, 3086, 3087, 3088, 3089, 3090, 3091, 3101, 3102, 3132, 3135, 3136, 3137, 3166, 3167, 3168, 3193, 3201, 3238, 3250]\n",
      "\n",
      "2485 [2485, 2496, 2741, 2742, 2743, 2744, 2764]\n",
      "\n",
      "2538 [2499, 2538, 2539, 2544, 2549, 2550, 2551, 2675, 2791, 2844, 2849, 2850, 2851, 2852, 2853, 2854, 2855, 2856, 2913, 2914, 2920, 2923, 2924, 2925, 2937, 2938, 2994, 3038, 3078, 3123, 3124, 3126, 3130, 3139, 3140, 3156, 3275, 3276, 3278, 3280]\n",
      "\n",
      "2918 [2500, 2530, 2531, 2579, 2580, 2657, 2693, 2725, 2726, 2775, 2776, 2792, 2908, 2916, 2918, 2926, 2927, 2928, 2929, 3061, 3077, 3113, 3163, 3164, 3171, 3181, 3271, 3285, 3286]\n",
      "\n",
      "2554 [2529, 2554, 2870, 2871, 2872, 2873, 2876, 2877, 2917, 3065, 3159, 3184, 3185, 3186, 3187, 3202]\n",
      "\n",
      "2548 [2537, 2546, 2547, 2548, 2841, 2847, 2848, 2932, 2935, 2958, 3055]\n",
      "\n",
      "2542 [2542, 2728, 2765, 2797, 2798, 2800, 2820, 2825, 2829, 2830, 2831, 2834, 2835, 2836, 2865, 2951, 2952, 2997, 3020, 3035, 3062, 3068, 3112, 3150, 3151, 3160, 3174, 3175, 3177, 3178, 3194, 3207, 3211, 3222, 3253, 3265]\n",
      "\n",
      "2553 [2553, 2715, 2721, 2801, 2809, 2811, 2843, 2845, 2874, 2875, 2922, 2971, 2978, 2995, 2999, 3030, 3051, 3057, 3059, 3092, 3096, 3127, 3128, 3129, 3141, 3149, 3191, 3192, 3284]\n",
      "\n",
      "2608 [2563, 2584, 2603, 2608, 2620, 2623, 2624, 2651, 2695, 2790, 2884, 2943, 2960, 2961, 2979, 2980, 3054, 3058, 3060, 3114, 3115, 3146, 3147]\n",
      "\n",
      "2574 [2574, 2812, 2906, 3097, 3281, 3282]\n",
      "\n",
      "2575 [2575, 2581, 2597, 2904, 2905, 2907, 2964, 3066]\n",
      "\n",
      "2585 [2585, 2674, 2710, 2722, 2757, 2880, 2889, 2890, 2992, 2998, 3053, 3095, 3162, 3197, 3199, 3215, 3230]\n",
      "\n",
      "2936 [2601, 2687, 2692, 2723, 2758, 2846, 2936, 2972, 3018, 3027, 3033, 3034, 3048, 3049, 3050, 3098, 3099, 3145, 3173, 3180, 3213, 3241, 3262]\n",
      "\n",
      "2662 [2662, 2663, 2668, 2678, 2684, 2690, 2691, 2705, 2714, 2813, 2819, 2837, 2867, 2891, 2903, 2942, 2944, 2945, 2969, 2976, 3079, 3104, 3116, 3131, 3200]\n",
      "\n",
      "2959 [2866, 2959, 3063, 3109, 3121, 3148, 3161]\n",
      "\n",
      "3783 [3749, 3753, 3754, 3755, 3756, 3757, 3758, 3759, 3760, 3761, 3762, 3764, 3771, 3772, 3774, 3775, 3776, 3777, 3778, 3783, 3784, 3788, 3791, 3792, 3796, 3797, 3799, 3800, 3805, 3810, 3811, 3812, 3814, 3815, 3818, 3819, 3821, 3824, 3825, 3826, 3831, 3834, 3835, 3836, 3841, 3842, 3846, 3847, 3849, 3850, 3854, 3855, 3858, 3859, 3860, 3863, 3864, 3868, 3876, 3877, 3879, 3880, 3881, 3882, 3883, 3887, 3888, 3890, 3897, 3898, 3902, 3903, 3907, 3908, 3909, 3910, 3911, 3912, 3916, 3917, 3918, 3921, 3922, 3925, 3926, 3932, 3933, 3934, 3935, 3937]\n",
      "\n",
      "4199 [3750, 3751, 3752, 3763, 3765, 3766, 3767, 3768, 3773, 3779, 3780, 3781, 3782, 3785, 3786, 3787, 3789, 3790, 3793, 3794, 3795, 3798, 3801, 3802, 3803, 3804, 3806, 3807, 3808, 3809, 3813, 3816, 3817, 3820, 3822, 3823, 3827, 3828, 3829, 3830, 3832, 3833, 3837, 3838, 3839, 3840, 3843, 3844, 3845, 3848, 3851, 3852, 3853, 3856, 3857, 3861, 3862, 3865, 3866, 3867, 3869, 3870, 3871, 3872, 3873, 3874, 3875, 3878, 3884, 3885, 3886, 3889, 3891, 3892, 3893, 3894, 3895, 3896, 3899, 3900, 3901, 3904, 3905, 3906, 3913, 3914, 3915, 3919, 3920, 3923, 3924, 3927, 3928, 3929, 3930, 3931, 3936, 3938, 3939, 3940, 3941, 3942, 3943, 3944, 3945, 3946, 4090, 4100, 4101, 4112, 4121, 4140, 4141, 4142, 4143, 4150, 4160, 4197, 4198, 4199, 4202, 4206, 4207, 4213, 4217, 4227, 4241, 4244, 4260, 4269, 4304]\n",
      "\n",
      "4218 [4087, 4091, 4092, 4116, 4132, 4155, 4156, 4164, 4166, 4174, 4181, 4189, 4194, 4205, 4208, 4210, 4214, 4218, 4219, 4242, 4249, 4255, 4258, 4263, 4264, 4267, 4295, 4296, 4297, 4298, 4301, 4302, 4303, 4313, 4314, 4315, 4316]\n",
      "\n",
      "4345 [4327, 4338, 4342, 4343, 4345, 4347, 4354, 4361, 4365, 4366, 4367, 4368, 4382, 4387, 4399, 4404, 4406, 4409, 4410, 4411, 4414, 4419]\n",
      "\n",
      "4395 [4333, 4339, 4340, 4350, 4351, 4355, 4359, 4371, 4372, 4379, 4380, 4383, 4388, 4389, 4390, 4391, 4393, 4394, 4395, 4396, 4397, 4400, 4403, 4416]\n",
      "\n",
      "4373 [4358, 4364, 4373, 4405, 4412]\n",
      "\n"
     ]
    }
   ],
   "source": [
    "colors = []\n",
    "size_node = []\n",
    "\n",
    "usable_colors = {}\n",
    "for i in range(len(generators)):\n",
    "    usable_colors[generators[i]] = float(i)/float(len(generators))\n",
    "\n",
    "communities = {}\n",
    "\n",
    "for node in G.nodes:\n",
    "    family = distances_family[node][1]\n",
    "    if family not in communities.keys():\n",
    "        communities[family] = [node]\n",
    "    else:\n",
    "        communities[family].append(node)\n",
    "    colors.append(usable_colors[family])\n",
    "    size_node.append(40)\n",
    "save_graph(G,\"communities.pdf\")\n",
    "\n",
    "for i in communities.keys():\n",
    "    print(i, communities[i], end = '\\n\\n')\n"
   ]
  }
 ],
 "metadata": {
  "interpreter": {
   "hash": "465bc43bf4cbae58c142e3527ff2b05702dd810bc8ebc4f627e0af6c067b87a4"
  },
  "kernelspec": {
   "display_name": "Python 3.9.7 ('base')",
   "language": "python",
   "name": "python3"
  },
  "language_info": {
   "codemirror_mode": {
    "name": "ipython",
    "version": 3
   },
   "file_extension": ".py",
   "mimetype": "text/x-python",
   "name": "python",
   "nbconvert_exporter": "python",
   "pygments_lexer": "ipython3",
   "version": "3.9.7"
  }
 },
 "nbformat": 4,
 "nbformat_minor": 2
}
