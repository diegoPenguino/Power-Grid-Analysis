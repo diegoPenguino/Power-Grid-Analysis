{
 "cells": [
  {
   "cell_type": "code",
   "execution_count": 37,
   "metadata": {},
   "outputs": [],
   "source": [
    "import networkx as nx\n",
    "\n",
    "G = nx.Graph()\n",
    "G = nx.read_gml('power_grid.gml', label=None)"
   ]
  },
  {
   "cell_type": "code",
   "execution_count": 38,
   "metadata": {},
   "outputs": [
    {
     "name": "stdout",
     "output_type": "stream",
     "text": [
      "Number of nodes:  4941\n",
      "Number of edges:  6594\n",
      "Network has no cycles:  False\n"
     ]
    }
   ],
   "source": [
    "def is_acyclic(G):\n",
    "    return nx.cycle_basis(G) == []\n",
    "\n",
    "def print_relevant_info(G):\n",
    "    print(\"Number of nodes: \", G.number_of_nodes())\n",
    "    print(\"Number of edges: \", G.number_of_edges())\n",
    "    print(\"Network has no cycles: \", is_acyclic(G))\n",
    "\n",
    "print_relevant_info(G)"
   ]
  },
  {
   "cell_type": "code",
   "execution_count": 39,
   "metadata": {},
   "outputs": [],
   "source": [
    "def bfs_by_ratio(G, node, max_dist):\n",
    "    visited = [node]\n",
    "    queue = [node]\n",
    "    distance = [-1]*(G.number_of_nodes() + 1)\n",
    "    distance [node] = 0\n",
    "    while queue:\n",
    "        node = queue.pop(0)\n",
    "        for neighbour in G.neighbors(node):\n",
    "            if neighbour not in visited and distance[node] + 1 <= max_dist:\n",
    "                visited.append(neighbour)\n",
    "                queue.append(neighbour)\n",
    "                distance[neighbour] = distance[node] + 1\n",
    "    return len(visited)\n",
    "\n",
    "def diego_centrality(G, ratio=3):\n",
    "    centrality = {}\n",
    "    for node in G.nodes:\n",
    "        centrality[node] = bfs_by_ratio(G, node, ratio)\n",
    "    return centrality\n",
    "        "
   ]
  },
  {
   "cell_type": "code",
   "execution_count": 40,
   "metadata": {},
   "outputs": [],
   "source": [
    "def get_best_nodes_by_centrality(centrality_funtion, G, number_of_nodes):\n",
    "    centrality_values = centrality_funtion(G)\n",
    "    amount = 0\n",
    "    aux = list((b, a) for a, b in centrality_values.items())\n",
    "    aux.sort(reverse=True)\n",
    "    ret = []\n",
    "    for i in aux:\n",
    "        if amount >= number_of_nodes:\n",
    "            break\n",
    "        amount += 1\n",
    "        ret.append(i)\n",
    "    return ret\n"
   ]
  },
  {
   "cell_type": "code",
   "execution_count": 41,
   "metadata": {},
   "outputs": [],
   "source": [
    "def get_intersection(list1, list2):\n",
    "    return list(set(list1) & set(list2))\n",
    "\n",
    "def get_intersections(result1, result2, max_size):\n",
    "    list1 = []\n",
    "    list2 = []\n",
    "    result = [[]]\n",
    "    for size in range(max_size):\n",
    "        list1.append(result1[size][1])\n",
    "        list2.append(result2[size][1])\n",
    "        result.append(get_intersection(list1, list2))\n",
    "    return result\n",
    "\n",
    "#get_intersections(nx.betweenness_centrality, nx.degree_centrality, G, 100)"
   ]
  },
  {
   "cell_type": "code",
   "execution_count": 42,
   "metadata": {},
   "outputs": [
    {
     "name": "stdout",
     "output_type": "stream",
     "text": [
      "0\n",
      "1\n",
      "2\n",
      "3\n"
     ]
    }
   ],
   "source": [
    "best = []\n",
    "amount = 209\n",
    "best.append(get_best_nodes_by_centrality(nx.degree_centrality, G, amount))                      #degree centrality      (0)\n",
    "print(0)\n",
    "best.append(get_best_nodes_by_centrality(nx.pagerank, G, amount))                               #pagerank               (1)\n",
    "print(1)\n",
    "best.append(get_best_nodes_by_centrality(nx.subgraph_centrality, G, amount))                    #Subgraph centrality    (2)\n",
    "print(2)\n",
    "best.append(get_best_nodes_by_centrality(diego_centrality, G, amount))                          #New centrality         (3)\n",
    "print(3)"
   ]
  },
  {
   "cell_type": "code",
   "execution_count": 43,
   "metadata": {},
   "outputs": [
    {
     "name": "stdout",
     "output_type": "stream",
     "text": [
      "0 1  ->  166\n",
      "0 2  ->  143\n",
      "0 3  ->  96\n",
      "1 2  ->  103\n",
      "1 3  ->  72\n",
      "2 3  ->  92\n"
     ]
    }
   ],
   "source": [
    "from itertools import combinations\n",
    "\n",
    "for i, j in combinations(range(len(best)), 2):\n",
    "    aux = [len(x) for x in get_intersections(best[i], best[j], amount)]\n",
    "    print(i, j,\" -> \", aux[-1], end = '\\n')"
   ]
  },
  {
   "cell_type": "code",
   "execution_count": 44,
   "metadata": {},
   "outputs": [
    {
     "name": "stdout",
     "output_type": "stream",
     "text": [
      "[2561, 2434, 1030, 2439, 2574, 2575, 1166, 2959, 1170, 4373, 2585, 2586, 2458, 2717, 1309, 2596, 680, 681, 4395, 2604, 2553, 2607, 2608, 2554, 2485, 1334, 2617, 2235, 2493, 1090, 1091, 2883, 3783, 4172, 1106, 2522, 4187, 4448, 1506, 2533, 2662, 4199, 2918, 4346, 4458, 490, 2538, 2542, 3312, 2545, 1140, 2548, 2936, 4345, 4218, 639] 56\n"
     ]
    }
   ],
   "source": [
    "generators = get_intersection([x[1] for x in best[0]], [x[1] for x in best[1]])\n",
    "generators = get_intersection(generators, [x[1] for x in best[2]])\n",
    "generators = get_intersection(generators, [x[1] for x in best[3]])\n",
    "print(generators, len(generators))"
   ]
  },
  {
   "cell_type": "code",
   "execution_count": 45,
   "metadata": {},
   "outputs": [
    {
     "data": {
      "image/png": "[encoded data removed]",
      "text/plain": [
       "<Figure size 432x288 with 1 Axes>"
      ]
     },
     "metadata": {
      "needs_background": "light"
     },
     "output_type": "display_data"
    }
   ],
   "source": [
    "import numpy as np\n",
    "import matplotlib.pyplot as plt\n",
    "\n",
    "def addlabels(x,y):\n",
    "    for i in range(len(x)):\n",
    "        plt.text(i, y[i], y[i], ha = 'center')\n",
    "\n",
    "degree_distribution = {}\n",
    "for i in G.degree:\n",
    "    if i[1] in degree_distribution:\n",
    "        degree_distribution[i[1]] += 1\n",
    "    else:\n",
    "        degree_distribution[i[1]] = 1\n",
    "\n",
    "aux = [(x, y) for (x, y) in degree_distribution.items()]\n",
    "aux.sort()\n",
    "x = [0]\n",
    "y = [0]\n",
    "\n",
    "for i in aux:\n",
    "    x.append(i[0])\n",
    "    y.append(i[1])\n",
    "\n",
    "plt.bar(x, y, tick_label=[str(val) for val in x], width=0.9)\n",
    "plt.title(\"Degree distribution of the network\")\n",
    "\n",
    "addlabels(x,y)\n",
    "plt.xlabel(\"Number of connections\")\n",
    "plt.ylabel(\"Number of nodes\")\n",
    "plt.savefig(\"Deg_distribution.jpg\", dpi=300)\n",
    "plt.show()"
   ]
  },
  {
   "cell_type": "code",
   "execution_count": 46,
   "metadata": {},
   "outputs": [],
   "source": [
    "from matplotlib import pylab\n",
    "pos = nx.spring_layout(G)\n"
   ]
  },
  {
   "cell_type": "code",
   "execution_count": 66,
   "metadata": {},
   "outputs": [],
   "source": [
    "colors = []\n",
    "size_node = []\n",
    "edges_color = '#ffdc73'\n",
    "\n",
    "def set_colors(gen_color, norm_color, terminal_color):\n",
    "    global colors\n",
    "    global size_node\n",
    "    colors = []\n",
    "    size_node = []\n",
    "    for node in G.nodes:\n",
    "        if node in generators:\n",
    "            colors.append(gen_color)\n",
    "            size_node.append(160)\n",
    "        else:\n",
    "            if G.degree[node] != 1:\n",
    "                colors.append(norm_color)\n",
    "                size_node.append(20)\n",
    "            else:\n",
    "                colors.append(terminal_color)\n",
    "                size_node.append(40)\n",
    "\n",
    "set_colors('#23ccad', '#c70039', 'black')"
   ]
  },
  {
   "cell_type": "code",
   "execution_count": 71,
   "metadata": {},
   "outputs": [],
   "source": [
    "def save_graph(graph,file_name, color_edges = ['#ffdc73' for u, v in G.edges]):\n",
    "    plt.figure(num=None, figsize=(30, 30), dpi=160)\n",
    "    plt.axis('off')\n",
    "    fig = plt.figure(1)\n",
    "    \n",
    "    nx.draw_networkx(graph, pos, with_labels=False, node_size=size_node, node_color=colors, edge_color=color_edges)\n",
    "\n",
    "    cut = 1.00\n",
    "    xmax = cut * max(xx for xx, yy in pos.values())\n",
    "    ymax = cut * max(yy for xx, yy in pos.values())\n",
    "    xmin = cut * min(xx for xx, yy in pos.values())\n",
    "    ymin = cut * min(yy for xx, yy in pos.values())\n",
    "    plt.xlim(xmin, xmax)\n",
    "    plt.ylim(ymin, ymax)\n",
    "    \n",
    "    plt.savefig(file_name,bbox_inches=\"tight\")\n",
    "    pylab.close()\n",
    "    del fig\n",
    "\n",
    "save_graph(G,\"my_graph.pdf\")"
   ]
  },
  {
   "cell_type": "code",
   "execution_count": 50,
   "metadata": {},
   "outputs": [
    {
     "name": "stdout",
     "output_type": "stream",
     "text": [
      "2561 True 2434 False 1030 False 2439 False 2574 False 2575 False 1166 False 2959 False 1170 False 4373 False 2585 False 2586 False 2458 False 2717 False 1309 False 2596 False 680 False 681 False 4395 False 2604 False 2553 False 2607 False 2608 False 2554 False 2485 False 1334 False 2617 False 2235 False 2493 False 1090 False 1091 False 2883 False 3783 False 4172 False 1106 False 2522 False 4187 False 4448 False 1506 False 2533 False 2662 False 4199 False 2918 False 4346 False 4458 False 490 False 2538 False 2542 False 3312 False 2545 False 1140 False 2548 False 2936 False 4345 False 4218 False 639 False "
     ]
    }
   ],
   "source": [
    "G_aux = G.copy()\n",
    "gen2 = generators.copy()\n",
    "for node in gen2:\n",
    "    print(node, end = ' ')\n",
    "    G_aux.remove_node(node)\n",
    "    print(nx.is_connected(G_aux), end=' ')\n"
   ]
  },
  {
   "cell_type": "code",
   "execution_count": 51,
   "metadata": {},
   "outputs": [
    {
     "name": "stdout",
     "output_type": "stream",
     "text": [
      "[2434, 1030, 2439, 2574, 2575, 1166, 2959, 2586, 2717, 1309, 680, 4395, 2604, 2608, 1334, 2493, 1090, 3783, 1106, 2522, 4187, 4448, 1506, 2662, 4199, 4458, 490, 2542, 1140, 2548, 2936, 2553, 4218, 639] 34\n"
     ]
    }
   ],
   "source": [
    "articulation_points = list(nx.articulation_points(G))\n",
    "articulation_generators = get_intersection(articulation_points, generators)\n",
    "print(articulation_generators, len(articulation_generators))"
   ]
  },
  {
   "cell_type": "code",
   "execution_count": 52,
   "metadata": {},
   "outputs": [],
   "source": [
    "colors = []\n",
    "size_node = []\n",
    "\n",
    "for node in G.nodes:\n",
    "    if node in articulation_generators:\n",
    "        colors.append('#23ccad')\n",
    "        size_node.append(250)\n",
    "    else:\n",
    "        colors.append('black')\n",
    "        size_node.append(20)\n",
    "save_graph(G,\"articulation_points.pdf\")"
   ]
  },
  {
   "cell_type": "code",
   "execution_count": 53,
   "metadata": {},
   "outputs": [],
   "source": [
    "distances_family = [(100, -1)]*(G.number_of_nodes() + 1)\n",
    "#(distance, family)\n",
    "\n",
    "def BFS_family(init_node):\n",
    "    queue = [init_node]\n",
    "    global distances_family    \n",
    "    distances_family [init_node] = (0, init_node)\n",
    "    while queue:\n",
    "        node = queue.pop(0)\n",
    "        for neighbour in G.neighbors(node):\n",
    "            if distances_family[node][0] + 1 <= distances_family[neighbour][0]:\n",
    "                queue.append(neighbour)\n",
    "                distances_family[neighbour] = (distances_family[node][0] + 1, init_node)\n",
    "\n",
    "for node in generators:\n",
    "    BFS_family(node)\n",
    "\n",
    "#print(distances_family)"
   ]
  },
  {
   "cell_type": "code",
   "execution_count": 83,
   "metadata": {},
   "outputs": [],
   "source": [
    "colors = []\n",
    "size_node = []\n",
    "\n",
    "usable_colors = {}\n",
    "for i in range(len(generators)):\n",
    "    usable_colors[generators[i]] = float(i)/float(len(generators))\n",
    "\n",
    "communities = {}\n",
    "\n",
    "for node in G.nodes:\n",
    "    family = distances_family[node][1]\n",
    "    if family not in communities.keys():\n",
    "        communities[family] = [node]\n",
    "    else:\n",
    "        communities[family].append(node)\n",
    "    colors.append(usable_colors[family])\n",
    "    if node in generators:\n",
    "        size_node.append(250)\n",
    "    else:\n",
    "        size_node.append(50)\n",
    "\n",
    "edges_color = []\n",
    "\n",
    "for u,v in G.edges:\n",
    "    family_u = distances_family[u][1]\n",
    "    family_v = distances_family[v][1]\n",
    "    if family_u == family_v:\n",
    "        edges_color.append(usable_colors[family_u])\n",
    "    else:\n",
    "        edges_color.append(1)\n",
    "\n",
    "save_graph(G,\"communities.pdf\", color_edges=edges_color)\n"
   ]
  },
  {
   "cell_type": "code",
   "execution_count": 84,
   "metadata": {},
   "outputs": [],
   "source": [
    "def save_graph_community(graph,file_name, list_of_nodes, color):\n",
    "    plt.figure(num=None, figsize=(30, 30), dpi=160)\n",
    "    plt.axis('off')\n",
    "    fig = plt.figure(1)\n",
    "\n",
    "    size_of_nodes = []\n",
    "    for node in list_of_nodes:\n",
    "        if node not in generators:\n",
    "            size_of_nodes.append(100)\n",
    "        else:\n",
    "            size_of_nodes.append(500)\n",
    "\n",
    "    list_of_edges = []\n",
    "    for u, v in G.edges:\n",
    "        if u in list_of_nodes and v in list_of_nodes:\n",
    "            list_of_edges.append((u,v))\n",
    "\n",
    "    nx.draw_networkx(graph, pos, with_labels=False, edgelist=list_of_edges, nodelist=list_of_nodes, node_size=size_of_nodes, node_color=color, edge_color=color)\n",
    "\n",
    "    cut = 1.00\n",
    "    xmax = cut * max(xx for xx, yy in pos.values())\n",
    "    ymax = cut * max(yy for xx, yy in pos.values())\n",
    "    xmin = cut * min(xx for xx, yy in pos.values())\n",
    "    ymin = cut * min(yy for xx, yy in pos.values())\n",
    "    plt.xlim(xmin, xmax)\n",
    "    plt.ylim(ymin, ymax)\n",
    "    \n",
    "    plt.savefig(file_name,bbox_inches=\"tight\")\n",
    "    pylab.close()\n",
    "    del fig"
   ]
  },
  {
   "cell_type": "code",
   "execution_count": 98,
   "metadata": {},
   "outputs": [
    {
     "name": "stdout",
     "output_type": "stream",
     "text": [
      "14\n"
     ]
    }
   ],
   "source": [
    "size_of_communities = [len(communities[main_node]) for main_node in generators]\n",
    "i = 0\n",
    "number_of_printed = len([size_of_community for size_of_community in size_of_communities if size_of_community > 100])\n",
    "print(number_of_printed)\n",
    "list_of_colors = ['#e6194B', '#3cb44b', '#ffe119', '#4363d8', '#f58231', '#911eb4', '#42d4f4', '#f032e6', '#469990', '#9A6324', '#800000', '#808000', '#000075', '#a9a9a9', '#000000']\n",
    "for community in communities.values():\n",
    "    if len(community) > 100:\n",
    "        i += 1\n",
    "        actual_name = \"Community_size_\"+str(len(community))+\".jpg\"\n",
    "        save_graph_community(G, actual_name, community, list_of_colors[i])"
   ]
  }
 ],
 "metadata": {
  "interpreter": {
   "hash": "465bc43bf4cbae58c142e3527ff2b05702dd810bc8ebc4f627e0af6c067b87a4"
  },
  "kernelspec": {
   "display_name": "Python 3.9.7 ('base')",
   "language": "python",
   "name": "python3"
  },
  "language_info": {
   "codemirror_mode": {
    "name": "ipython",
    "version": 3
   },
   "file_extension": ".py",
   "mimetype": "text/x-python",
   "name": "python",
   "nbconvert_exporter": "python",
   "pygments_lexer": "ipython3",
   "version": "3.9.7"
  }
 },
 "nbformat": 4,
 "nbformat_minor": 2
}
